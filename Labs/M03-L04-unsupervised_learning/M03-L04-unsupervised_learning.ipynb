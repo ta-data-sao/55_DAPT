{
 "cells": [
  {
   "cell_type": "markdown",
   "metadata": {},
   "source": [
    "# LAB | Aprendizado Não-Supervisionado"
   ]
  },
  {
   "cell_type": "markdown",
   "metadata": {},
   "source": [
    "## Importe as bibliotecas aqui"
   ]
  },
  {
   "cell_type": "code",
   "execution_count": null,
   "metadata": {},
   "outputs": [],
   "source": [
    "# Seu código aqui"
   ]
  },
  {
   "cell_type": "markdown",
   "metadata": {},
   "source": [
    "## Carregue e descreva o dataset\n",
    "\n",
    "- Neste lab, usaremos um dataset contendo informações sobre preferências de clientes.\n",
    "- Vamos analisar quanto cada cliente gasta num ano em cada subcategoria no mercado e tentar achar semelhanças entre eles, usando aglomeração.\n",
    "- O dataset está [aqui](https://archive.ics.uci.edu/ml/datasets/wholesale+customers).\n",
    "- Carregue o dataset e armazene-o na variável `customers`."
   ]
  },
  {
   "cell_type": "code",
   "execution_count": null,
   "metadata": {},
   "outputs": [],
   "source": [
    "# Seu código aqui"
   ]
  },
  {
   "cell_type": "markdown",
   "metadata": {},
   "source": [
    "### Explore o dataset com técnicas matemáticas e de visualização. O que encontramos?\n",
    "\n",
    "Checklist:\n",
    "\n",
    "- Que informação cada coluna traz?\n",
    "- Algum dado categórico para converter?\n",
    "- Algum valor ausente para remover?\n",
    "- Colinearidade de colunas - alguma alta correlação?\n",
    "- Estatística descritiva - há outliers para remover?\n",
    "- Distribuição dos dados nas colunas - qual o tipo das distribuições?"
   ]
  },
  {
   "cell_type": "code",
   "execution_count": null,
   "metadata": {},
   "outputs": [],
   "source": [
    "# Seu código aqui"
   ]
  },
  {
   "cell_type": "markdown",
   "metadata": {},
   "source": [
    "- Plote um histograma para cada variável de `customers`."
   ]
  },
  {
   "cell_type": "code",
   "execution_count": null,
   "metadata": {},
   "outputs": [],
   "source": [
    "# Seu código aqui"
   ]
  },
  {
   "cell_type": "markdown",
   "metadata": {},
   "source": [
    "## Limpeza e Transformação de Dados\n",
    "\n",
    "- Se sua conclusão no exercício anterior foi que os dados precisam de limpeza e/ou transformação, faça-as nas células abaixo. Se não, sinta-se a vontade para pular esse passo."
   ]
  },
  {
   "cell_type": "code",
   "execution_count": null,
   "metadata": {},
   "outputs": [],
   "source": [
    "# Seu código aqui"
   ]
  },
  {
   "cell_type": "markdown",
   "metadata": {},
   "source": [
    "## Pré-processamento de Dados\n",
    "\n",
    "- Um problema do dataset é que o alcance dos valores difere muito ao longo das categorias (por exemplo, `Fresh` e `Grocery` comparadas a `Detergents_Paper` e `Delicassen`).\n",
    "- Alcances diversos nas diferentes características podem gerar problemas na aglomeração. Tratamos esse problema com a padronização. Vamos usá-la também neste dataset.\n",
    "- Vamos usar `StandardScaler` da `sklearn.preprocessing`. Leia mais sobre `StandardScaler` [aqui](https://scikit-learn.org/stable/modules/generated/sklearn.preprocessing.StandardScaler.html#sklearn.preprocessing.StandardScaler).\n",
    "- Depois que padronizar seus dados, armazene-os em `customers_scale`.\n",
    "```python\n",
    "from sklearn.preprocessing import StandardScaler\n",
    "```\n"
   ]
  },
  {
   "cell_type": "code",
   "execution_count": null,
   "metadata": {},
   "outputs": [],
   "source": [
    "# Seu código aqui"
   ]
  },
  {
   "cell_type": "markdown",
   "metadata": {},
   "source": [
    "## Aglomeração de Dados com K-Means\n",
    "\n",
    "- Primeiramente, vamos aglomerar os dados com K-Means. \n",
    "- Instancie o modelo K-Means, então ajuste seus dados padronizados. \n",
    "- O retorno do método `.fit()` tem o atributo `labels_`. Incorpore esse dado a `customers` como uma nova coluna, `labels_kmeans`."
   ]
  },
  {
   "cell_type": "code",
   "execution_count": null,
   "metadata": {},
   "outputs": [],
   "source": [
    "# Seu código aqui"
   ]
  },
  {
   "cell_type": "markdown",
   "metadata": {},
   "source": [
    "- Conte os valores de `labels_kmeans`."
   ]
  },
  {
   "cell_type": "code",
   "execution_count": null,
   "metadata": {},
   "outputs": [],
   "source": [
    "# Seu código aqui"
   ]
  },
  {
   "cell_type": "markdown",
   "metadata": {},
   "source": [
    "## Aglomeração de Dados com DBSCAN\n",
    "- Agora, vamos aglomerar com DBSCAN.\n",
    "- Use `DBSCAN(eps=0.5)` no instanciamento do modelo, então ajuste seus dados padronizados. \n",
    "- O retorno do método `.fit()` tem o atributo `labels_`. Incorpore esse dado a `customers` como uma nova coluna, `labels_dbscan`. \n",
    "- Agora, seus dados originais têm dois rótulos."
   ]
  },
  {
   "cell_type": "code",
   "execution_count": null,
   "metadata": {},
   "outputs": [],
   "source": [
    "# Seu código aqui"
   ]
  },
  {
   "cell_type": "markdown",
   "metadata": {},
   "source": [
    "- Conte os valores de `labels_dbscan`."
   ]
  },
  {
   "cell_type": "code",
   "execution_count": null,
   "metadata": {},
   "outputs": [],
   "source": [
    "# Seu código aqui"
   ]
  },
  {
   "cell_type": "markdown",
   "metadata": {},
   "source": [
    "## Compare K-Means com DBSCAN\n",
    "- Agora queremos comparar visualmente como K-Means e DBSCAN aglomeraram nossos dados.\n",
    "- Vamos criar scatterplots para várias colunas. Para cada dupla de colunas, faça duas plotagens - uma usando `labels_kmeans` na cor, e outra usando `labels_dbscan`. Disponha-as lado a lado para comparação. Qual algoritmo de aglomeração faz mais sentido?\n",
    "\n",
    "Pares de colunas a serem visualizados:\n",
    "- `Detergents_Paper` como `x`, e `Milk` como `y`\n",
    "- `Grocery` como `x`, e `Fresh` como `y`\n",
    "- `Frozen` como `x`, e `Delicassen` como `y`"
   ]
  },
  {
   "cell_type": "markdown",
   "metadata": {},
   "source": [
    "- Plote o primeiro par e compare os algoritmos."
   ]
  },
  {
   "cell_type": "code",
   "execution_count": null,
   "metadata": {},
   "outputs": [],
   "source": [
    "# Seu código aqui"
   ]
  },
  {
   "cell_type": "markdown",
   "metadata": {},
   "source": [
    "- Plote o segundo par e compare os algoritmos."
   ]
  },
  {
   "cell_type": "code",
   "execution_count": null,
   "metadata": {},
   "outputs": [],
   "source": [
    "# Seu código aqui"
   ]
  },
  {
   "cell_type": "markdown",
   "metadata": {},
   "source": [
    "- Plote o terceiro par e compare os algoritmos."
   ]
  },
  {
   "cell_type": "code",
   "execution_count": null,
   "metadata": {},
   "outputs": [],
   "source": [
    "# Seu código aqui"
   ]
  },
  {
   "cell_type": "markdown",
   "metadata": {},
   "source": [
    "- Vamos agrupar os dados para analisar como as médias diferem.\n",
    "- Agrupe `customers` por `labels_kmeans` e calcule a média para todas as colunas."
   ]
  },
  {
   "cell_type": "code",
   "execution_count": null,
   "metadata": {},
   "outputs": [],
   "source": [
    "# Seu código aqui"
   ]
  },
  {
   "cell_type": "markdown",
   "metadata": {},
   "source": [
    "- Agrupe `customers` por `labels_dbscan` e calcule a média para todas as colunas."
   ]
  },
  {
   "cell_type": "code",
   "execution_count": null,
   "metadata": {},
   "outputs": [],
   "source": [
    "# Seu código aqui"
   ]
  },
  {
   "cell_type": "markdown",
   "metadata": {},
   "source": [
    "## Bônus - Mudando o número de aglomerados em K-Means\n",
    "\n",
    "Como mencionamos antes, não precisamos nos preocupar com o número de aglomerados em DBSCAN, porque ele decide isso automaticamente, baseado nos parâmetros que especificamos. Mas, em K-Means, temos que especificar o argumento `n_clusters` (se não especificarmos, o algoritmo vai usar `8` por padrão). Devemos lembrar que o número ótimo de aglomerados difere caso a caso, baseado no dataset. K-Means pode performar mal se o número errado de aglomerados for usado.\n",
    "\n",
    "Em aprendizado de máquinas avançado, cientistas de dados tentam diferentes números de aglomerados e avaliam os resultados com medidas estatísticas (leia [aqui](https://en.wikipedia.org/wiki/Cluster_analysis#External_evaluation)). Não usaremos medidas estatísticas hoje, mas nossos olhos.\n",
    "- Nas células abaixo, teste diferentes números de aglomerados e visualize-os com scatterplot. \n",
    "- Qual número parece funcionar melhor nesses dados?"
   ]
  },
  {
   "cell_type": "code",
   "execution_count": null,
   "metadata": {},
   "outputs": [],
   "source": [
    "# Seu código aqui"
   ]
  },
  {
   "cell_type": "markdown",
   "metadata": {},
   "source": [
    "## Bônus - Mudando `eps` e `min_samples` em DBSCAN\n",
    "- Experimente mudar os argumentos `eps` e `min_samples` em DBSCAN. Observe como os resultados diferem, visualizando-os com scatterplot."
   ]
  },
  {
   "cell_type": "code",
   "execution_count": null,
   "metadata": {},
   "outputs": [],
   "source": [
    "# Seu código aqui"
   ]
  }
 ],
 "metadata": {
  "hide_input": false,
  "kernelspec": {
   "display_name": "Python 3",
   "language": "python",
   "name": "python3"
  },
  "language_info": {
   "codemirror_mode": {
    "name": "ipython",
    "version": 3
   },
   "file_extension": ".py",
   "mimetype": "text/x-python",
   "name": "python",
   "nbconvert_exporter": "python",
   "pygments_lexer": "ipython3",
   "version": "3.8.3"
  },
  "toc": {
   "base_numbering": 1,
   "nav_menu": {},
   "number_sections": true,
   "sideBar": true,
   "skip_h1_title": false,
   "title_cell": "Table of Contents",
   "title_sidebar": "Contents",
   "toc_cell": false,
   "toc_position": {},
   "toc_section_display": true,
   "toc_window_display": false
  },
  "varInspector": {
   "cols": {
    "lenName": 16,
    "lenType": 16,
    "lenVar": 40
   },
   "kernels_config": {
    "python": {
     "delete_cmd_postfix": "",
     "delete_cmd_prefix": "del ",
     "library": "var_list.py",
     "varRefreshCmd": "print(var_dic_list())"
    },
    "r": {
     "delete_cmd_postfix": ") ",
     "delete_cmd_prefix": "rm(",
     "library": "var_list.r",
     "varRefreshCmd": "cat(var_dic_list()) "
    }
   },
   "types_to_exclude": [
    "module",
    "function",
    "builtin_function_or_method",
    "instance",
    "_Feature"
   ],
   "window_display": false
  }
 },
 "nbformat": 4,
 "nbformat_minor": 2
}

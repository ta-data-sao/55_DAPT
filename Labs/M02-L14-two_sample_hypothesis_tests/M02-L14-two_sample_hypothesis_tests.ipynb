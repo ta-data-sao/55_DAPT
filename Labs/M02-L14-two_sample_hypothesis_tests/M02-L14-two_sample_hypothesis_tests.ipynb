{
 "cells": [
  {
   "cell_type": "markdown",
   "metadata": {},
   "source": [
    "# LAB | Teste de hipótese com duas amostras"
   ]
  },
  {
   "cell_type": "markdown",
   "metadata": {},
   "source": [
    "### Importe as bibliotecas aqui:"
   ]
  },
  {
   "cell_type": "code",
   "execution_count": null,
   "metadata": {},
   "outputs": [],
   "source": [
    "# Seu código aqui"
   ]
  },
  {
   "cell_type": "markdown",
   "metadata": {},
   "source": [
    "# Explorando os dados"
   ]
  },
  {
   "cell_type": "markdown",
   "metadata": {
    "colab_type": "text",
    "id": "aXbuNLgVyLfU"
   },
   "source": [
    "- Neste lab, vamos analisar os salários dos funcionários da cidade de Chicago.\n",
    "- Comecemos carregando o dataset e examinando seu conteúdo.\n",
    "- Leia `Employees_advanced.csv` e armazene numa variável chamada `salarios`."
   ]
  },
  {
   "cell_type": "code",
   "execution_count": null,
   "metadata": {},
   "outputs": [],
   "source": [
    "# Seu código aqui"
   ]
  },
  {
   "cell_type": "markdown",
   "metadata": {
    "colab_type": "text",
    "id": "0qmm0QC6yLfX"
   },
   "source": [
    "- Examine o dataset usando `head`."
   ]
  },
  {
   "cell_type": "code",
   "execution_count": null,
   "metadata": {},
   "outputs": [],
   "source": [
    "# Seu código aqui"
   ]
  },
  {
   "cell_type": "markdown",
   "metadata": {},
   "source": [
    "- A coluna `Salary or Hourly` indica o tipo de remuneração dos funcionários: salário fixo (`Salary`) ou pagamento por hora trabalhada (`Hourly`).\n",
    "- Conte quantos funcionários recebem cada tipo de remuneração."
   ]
  },
  {
   "cell_type": "code",
   "execution_count": null,
   "metadata": {},
   "outputs": [],
   "source": [
    "# Seu código aqui"
   ]
  },
  {
   "cell_type": "markdown",
   "metadata": {
    "colab_type": "text",
    "id": "RSjxsgI8yLff"
   },
   "source": [
    "- Há diferentes `departments` na cidade. \n",
    "- Liste todos os departamentos e conte quantos funcionários estão vinculados a cada um deles."
   ]
  },
  {
   "cell_type": "code",
   "execution_count": null,
   "metadata": {},
   "outputs": [],
   "source": [
    "# Seu código aqui"
   ]
  },
  {
   "cell_type": "markdown",
   "metadata": {},
   "source": [
    "# Testes de hipótese"
   ]
  },
  {
   "cell_type": "markdown",
   "metadata": {
    "colab_type": "text",
    "id": "DOsiez5TyLfh"
   },
   "source": [
    "- Vamos testar se a remuneração de todos os trabalhadores que recebem por hora é significativamente diferente de \\$30/h.\n",
    "- Faça o teste de hipótese para um intervalo de confiança de 95%.\n",
    "- Nossa hipótese nula é que a remuneração média desses trabalhadores é exatamente \\$30/h.\n",
    "> - Filtre as linhas do dataset em que a remuneração é `Hourly`\n",
    "> - Use `ttest_1samp`\n",
    "\n",
    "```python\n",
    "from scipy.stats import ttest_1samp\n",
    "```"
   ]
  },
  {
   "cell_type": "code",
   "execution_count": null,
   "metadata": {},
   "outputs": [],
   "source": [
    "# Seu código aqui"
   ]
  },
  {
   "cell_type": "markdown",
   "metadata": {
    "colab_type": "text",
    "id": "OiFJS9_PyLfk"
   },
   "source": [
    "- Também queremos saber sobre os salários da polícia. O chefe da polícia de Chicago afirmou numa entrevista de imprensa que os salários de todos os funcionários este ano estão acima de \\$86000 - média do salário anual de todo o departamento no ano anterior.\n",
    "- Teste essa hipótese usando um intervalo de confiança de 95%.\n",
    "> - Filtre as linhas do dataset em que a remuneração é `Salary` e o departamento é `POLICE`\n",
    "> - Use `ttest_1samp`\n",
    "\n",
    "```python\n",
    "from scipy.stats import ttest_1samp\n",
    "```"
   ]
  },
  {
   "cell_type": "code",
   "execution_count": null,
   "metadata": {},
   "outputs": [],
   "source": [
    "# Seu código aqui"
   ]
  },
  {
   "cell_type": "markdown",
   "metadata": {
    "colab_type": "text",
    "id": "hTYbXjbhyLfr"
   },
   "source": [
    "# Intervalos de confiança\n",
    "\n",
    "- Ao mesmo tempo que testar nossa hipótese é um ótimo jeito de juntar evidências empíricas para aceitar ou rejeitar a hipótese, outra forma de juntar evidências é criando um intervalo de confiança.\n",
    "- Um intervalo de confiança nos dá informação sobre a média real da população. Então, para um intervalo de confiança de 95%, temos 95% de certeza de que a média da população está dentro do intervalo de confiança.\n",
    "- Na célula abaixo, vamos construir um intervalo de confiança de 95% para o pagamento por hora médio de todos os funcionários remunerados por hora.\n",
    "\n",
    "```python\n",
    "from scipy.stats import t\n",
    "t.interval(confidence_level, df=degree_of_freedom, loc=location_parameter, scale=standard_error)\n",
    "```\n",
    "\n",
    "Para calcular o intervalo de confiança do pagamento por hora, use:\n",
    "> - `0.95` para o nível de confiança\n",
    "> - `número de linhas - 1` para graus de liberdade\n",
    "> - a `média da amostra` para o parâmetro de localização\n",
    "> - o `desvio padrão` para a escala\n",
    "\n",
    "_o desvio padrão pode ser calculado usando [esta](https://docs.scipy.org/doc/scipy/reference/generated/scipy.stats.sem.html) função da scipy_"
   ]
  },
  {
   "cell_type": "code",
   "execution_count": null,
   "metadata": {},
   "outputs": [],
   "source": [
    "# Seu código aqui"
   ]
  },
  {
   "cell_type": "markdown",
   "metadata": {
    "colab_type": "text",
    "id": "QYJw1wREyLfv"
   },
   "source": [
    "- Agora, construa um intervalo de confiança de 95% para todos os funcionários da polícia com salário fixo."
   ]
  },
  {
   "cell_type": "code",
   "execution_count": null,
   "metadata": {},
   "outputs": [],
   "source": [
    "# Seu código aqui"
   ]
  },
  {
   "cell_type": "markdown",
   "metadata": {},
   "source": [
    "# Bônus - Testes de hipótese de proporções"
   ]
  },
  {
   "cell_type": "markdown",
   "metadata": {
    "colab_type": "text",
    "id": "kOhGOmrCyLfx"
   },
   "source": [
    "- Outro tipo de teste de amostra única é o teste de hipótese de proporções.\n",
    "- Nesse teste, analisamos se a proporção de um grupo na amostra é significativamente diferente de uma fração.\n",
    "- Você pode ler mais sobre testes de proporção de amostra única [aqui](http://sphweb.bumc.bu.edu/otlt/MPH-Modules/BS/SAS/SAS6-CategoricalData/SAS6-CategoricalData2.html).\n",
    "- Na célula abaixo, use `proportions_ztest` para fazer um teste de hipótese que determine se a proporção de funcionários que recebem por hora na cidade de Chicago é significativamente diferente de 25%, com um intervalo de confiança de 95%.\n",
    "```python\n",
    "from statsmodels.stats.proportion import proportions_ztest\n",
    "```"
   ]
  },
  {
   "cell_type": "code",
   "execution_count": null,
   "metadata": {},
   "outputs": [],
   "source": [
    "# Seu código aqui"
   ]
  }
 ],
 "metadata": {
  "colab": {
   "name": "main.ipynb",
   "provenance": []
  },
  "kernelspec": {
   "display_name": "Python 3.9.7 ('base')",
   "language": "python",
   "name": "python3"
  },
  "language_info": {
   "codemirror_mode": {
    "name": "ipython",
    "version": 3
   },
   "file_extension": ".py",
   "mimetype": "text/x-python",
   "name": "python",
   "nbconvert_exporter": "python",
   "pygments_lexer": "ipython3",
   "version": "3.9.7"
  },
  "toc": {
   "base_numbering": 1,
   "nav_menu": {},
   "number_sections": true,
   "sideBar": true,
   "skip_h1_title": false,
   "title_cell": "Table of Contents",
   "title_sidebar": "Contents",
   "toc_cell": false,
   "toc_position": {},
   "toc_section_display": true,
   "toc_window_display": false
  },
  "vscode": {
   "interpreter": {
    "hash": "7869b160c3910301faef0a277a4870fbba5b5242c72c77312845f42f06961f70"
   }
  }
 },
 "nbformat": 4,
 "nbformat_minor": 1
}

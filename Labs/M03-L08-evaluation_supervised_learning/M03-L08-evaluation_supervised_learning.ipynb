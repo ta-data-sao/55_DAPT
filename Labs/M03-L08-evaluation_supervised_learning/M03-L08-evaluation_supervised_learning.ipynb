{
 "cells": [
  {
   "cell_type": "markdown",
   "metadata": {},
   "source": [
    "# Lab | Avaliação de Aprendizado Supervisionado\n",
    "- Neste lab, praticaremos o cálculo de métricas que podemos usar para medir a performance de modelos tanto de regressão quanto de classificação."
   ]
  },
  {
   "cell_type": "markdown",
   "metadata": {},
   "source": [
    "## Importe as bibliotecas aqui"
   ]
  },
  {
   "cell_type": "code",
   "execution_count": null,
   "metadata": {},
   "outputs": [],
   "source": [
    "# Seu código aqui"
   ]
  },
  {
   "cell_type": "markdown",
   "metadata": {},
   "source": [
    "# Dataset Iris"
   ]
  },
  {
   "cell_type": "markdown",
   "metadata": {},
   "source": [
    "## Importe o dataset\n",
    "- Rode o código abaixo para importar o dataset e separá-lo em X e y.\n",
    "- A coluna `class` representa o tipo de flor e é a variável resposta que queremos prever.\n",
    "```python\n",
    "from sklearn.datasets import load_iris\n",
    "data = load_iris()\n",
    "iris_X = pd.DataFrame(data[\"data\"], columns=data[\"feature_names\"])\n",
    "iris_y = pd.DataFrame(data[\"target\"], columns=[\"class\"])\n",
    "iris = pd.concat([iris_X, iris_y], axis=1)\n",
    "```"
   ]
  },
  {
   "cell_type": "code",
   "execution_count": null,
   "metadata": {},
   "outputs": [],
   "source": [
    "# Seu código aqui"
   ]
  },
  {
   "cell_type": "markdown",
   "metadata": {},
   "source": [
    "## Separe o dataset\n",
    "- Separe o dataset `iris` em treino (80%) e teste (20%), atribuindo as partes às variáveis `iris_X_train`, `iris_X_test`, `iris_y_train` e `iris_y_test`."
   ]
  },
  {
   "cell_type": "code",
   "execution_count": null,
   "metadata": {},
   "outputs": [],
   "source": [
    "# Seu código aqui"
   ]
  },
  {
   "cell_type": "markdown",
   "metadata": {},
   "source": [
    "## Treine uma Regressão Logística\n",
    "- Treine um modelo `LogisticRegression` no dataset treino.\n",
    "- Gere previsões tanto para o dataset treino quanto para o teste.\n",
    "```python\n",
    "from sklearn.linear_model import LogisticRegression\n",
    "```"
   ]
  },
  {
   "cell_type": "code",
   "execution_count": null,
   "metadata": {},
   "outputs": [],
   "source": [
    "# Seu código aqui"
   ]
  },
  {
   "cell_type": "markdown",
   "metadata": {},
   "source": [
    "## Calcule a Acurácia\n",
    "- Calcule e imprima a acurácia tanto para o dataset treino quanto para o teste.\n",
    "```python\n",
    "from sklearn.metrics import accuracy_score\n",
    "```"
   ]
  },
  {
   "cell_type": "code",
   "execution_count": null,
   "metadata": {},
   "outputs": [],
   "source": [
    "# Seu código aqui"
   ]
  },
  {
   "cell_type": "markdown",
   "metadata": {},
   "source": [
    "## Calcule a Acurácia Balanceada\n",
    "- Calcule e imprima a acurácia balanceada tanto para o dataset treino quanto para o teste.\n",
    "```python\n",
    "from sklearn.metrics import balanced_accuracy_score\n",
    "```"
   ]
  },
  {
   "cell_type": "code",
   "execution_count": null,
   "metadata": {},
   "outputs": [],
   "source": [
    "# Seu código aqui"
   ]
  },
  {
   "cell_type": "markdown",
   "metadata": {},
   "source": [
    "## Calcule a Precisão\n",
    "- Calcule e imprima a precisão tanto para o dataset treino quanto para o teste.\n",
    "```python\n",
    "from sklearn.metrics import precision_score\n",
    "```"
   ]
  },
  {
   "cell_type": "code",
   "execution_count": null,
   "metadata": {},
   "outputs": [],
   "source": [
    "# Seu código aqui"
   ]
  },
  {
   "cell_type": "markdown",
   "metadata": {},
   "source": [
    "## Calcule a Revogação\n",
    "- Calcule e imprima a revogação tanto para o dataset treino quanto para o teste.\n",
    "```python\n",
    "from sklearn.metrics import recall_score\n",
    "```"
   ]
  },
  {
   "cell_type": "code",
   "execution_count": null,
   "metadata": {},
   "outputs": [],
   "source": [
    "# Seu código aqui"
   ]
  },
  {
   "cell_type": "markdown",
   "metadata": {},
   "source": [
    "## Calcule o F1\n",
    "- Calcule e imprima o F1 tanto para o dataset treino quanto para o teste.\n",
    "```python\n",
    "from sklearn.metrics import f1_score\n",
    "```"
   ]
  },
  {
   "cell_type": "code",
   "execution_count": null,
   "metadata": {},
   "outputs": [],
   "source": [
    "# Seu código aqui"
   ]
  },
  {
   "cell_type": "markdown",
   "metadata": {},
   "source": [
    "## Gere Matrizes de Confusão\n",
    "- Gere matrizes de confusão tanto para o dataset treino quanto para o teste."
   ]
  },
  {
   "cell_type": "code",
   "execution_count": null,
   "metadata": {},
   "outputs": [],
   "source": [
    "# Seu código aqui"
   ]
  },
  {
   "cell_type": "markdown",
   "metadata": {},
   "source": [
    "___________________________"
   ]
  },
  {
   "cell_type": "markdown",
   "metadata": {},
   "source": [
    "# Dataset Califórnia\n",
    "## Importe o dataset\n",
    "- Rode o código abaixo para importar o dataset e separá-lo em X e y.\n",
    "- A coluna `MEDV` representa os valores medianos das casas ocupadas por seus donos (em milhares de dólares) e será a variável resposta que queremos prever.\n",
    "```python\n",
    "from sklearn.datasets import fetch_california_housing\n",
    "data = fetch_california_housing()\n",
    "cali_X = pd.DataFrame(data[\"data\"], columns=data[\"feature_names\"])\n",
    "cali_y = pd.DataFrame(data[\"target\"], columns=['MEDV'])\n",
    "cali = pd.concat([cali_X, cali_y], axis=1)\n",
    "```"
   ]
  },
  {
   "cell_type": "code",
   "execution_count": null,
   "metadata": {},
   "outputs": [],
   "source": [
    "# Seu código aqui"
   ]
  },
  {
   "cell_type": "markdown",
   "metadata": {},
   "source": [
    "## Separe o dataset\n",
    "- Separe o dataset `cali` em treino (80%) e teste (20%), atribuindo as partes às variáveis `cali_X_train`, `cali_X_test`, `cali_y_train` e `cali_y_test`."
   ]
  },
  {
   "cell_type": "code",
   "execution_count": null,
   "metadata": {},
   "outputs": [],
   "source": [
    "# Seu código aqui"
   ]
  },
  {
   "cell_type": "markdown",
   "metadata": {},
   "source": [
    "## Treine uma Regressão Linear\n",
    "- Treine um modelo `LinearRegression` no dataset treino.\n",
    "- Gere previsões tanto para o dataset treino quanto para o teste.\n",
    "```python\n",
    "from sklearn.linear_model import LinearRegression\n",
    "```"
   ]
  },
  {
   "cell_type": "code",
   "execution_count": null,
   "metadata": {},
   "outputs": [],
   "source": [
    "# Seu código aqui"
   ]
  },
  {
   "cell_type": "markdown",
   "metadata": {},
   "source": [
    "## Calcule o R-Quadrado\n",
    "- Calcule e imprima o r-quadrado tanto para o dataset treino quanto para o teste.\n",
    "```python\n",
    "from sklearn.metrics import r2_score\n",
    "```"
   ]
  },
  {
   "cell_type": "code",
   "execution_count": null,
   "metadata": {},
   "outputs": [],
   "source": [
    "# Seu código aqui"
   ]
  },
  {
   "cell_type": "markdown",
   "metadata": {},
   "source": [
    "## Calcule o Erro Quadrático Médio\n",
    "- Calcule e imprima o erro quadrático médio tanto para o dataset treino quanto para o teste.\n",
    "```python\n",
    "from sklearn.metrics import mean_squared_error\n",
    "```"
   ]
  },
  {
   "cell_type": "code",
   "execution_count": null,
   "metadata": {},
   "outputs": [],
   "source": [
    "# Seu código aqui"
   ]
  },
  {
   "cell_type": "markdown",
   "metadata": {},
   "source": [
    "## Calcule o Erro Absoluto Médio\n",
    "- Calcule e imprima o erro absoluto médio tanto para o dataset treino quanto para o teste.\n",
    "```python\n",
    "from sklearn.metrics import mean_absolute_error\n",
    "```"
   ]
  },
  {
   "cell_type": "code",
   "execution_count": null,
   "metadata": {},
   "outputs": [],
   "source": [
    "# Seu código aqui"
   ]
  }
 ],
 "metadata": {
  "kernelspec": {
   "display_name": "Python 3.9.7 ('base')",
   "language": "python",
   "name": "python3"
  },
  "language_info": {
   "codemirror_mode": {
    "name": "ipython",
    "version": 3
   },
   "file_extension": ".py",
   "mimetype": "text/x-python",
   "name": "python",
   "nbconvert_exporter": "python",
   "pygments_lexer": "ipython3",
   "version": "3.9.7"
  },
  "vscode": {
   "interpreter": {
    "hash": "7869b160c3910301faef0a277a4870fbba5b5242c72c77312845f42f06961f70"
   }
  }
 },
 "nbformat": 4,
 "nbformat_minor": 2
}

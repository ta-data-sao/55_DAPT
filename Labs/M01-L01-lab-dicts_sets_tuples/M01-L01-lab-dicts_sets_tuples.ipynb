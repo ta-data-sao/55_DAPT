{
 "cells": [
  {
   "cell_type": "markdown",
   "metadata": {},
   "source": [
    "# Estruturas de Dados"
   ]
  },
  {
   "cell_type": "markdown",
   "metadata": {},
   "source": [
    "Neste lab, praticaremos tuplas, conjuntos e dicionários.\n",
    "Caso precise, aqui estão alguns tutoriais extras:\n",
    "* Tuplas - [Python Tuples Examples and Methods ](https://www.w3schools.com/python/python_tuples.asp)\n",
    "* Conjuntos - [Python Sets Examples and Methods](https://www.w3schools.com/python/python_sets.asp)\n",
    "* Dicionários - [Python Dictionary Examples and Methods](https://www.w3schools.com/python/python_dictionaries.asp)"
   ]
  },
  {
   "cell_type": "markdown",
   "metadata": {},
   "source": [
    "-----------------------------------"
   ]
  },
  {
   "cell_type": "markdown",
   "metadata": {
    "ExecuteTime": {
     "end_time": "2021-07-08T22:57:01.411357Z",
     "start_time": "2021-07-08T22:57:01.396393Z"
    }
   },
   "source": [
    "## Tuplas"
   ]
  },
  {
   "cell_type": "markdown",
   "metadata": {
    "ExecuteTime": {
     "end_time": "2021-07-08T23:47:12.350187Z",
     "start_time": "2021-07-08T23:47:12.330012Z"
    }
   },
   "source": [
    "#### Sabia que podemos criar tuplas com um único elemento?\n",
    "\n",
    "**Na célula abaixo, defina uma variável `tup` com um único elemento `\"I\"`.**\n",
    "\n",
    "*Dica: precisamos adicionar uma vírgula (`,`) depois do elemento único, pois, se não, a definição assume que os parênteses são dispensáveis.*"
   ]
  },
  {
   "cell_type": "code",
   "execution_count": null,
   "metadata": {
    "ExecuteTime": {
     "end_time": "2021-07-08T23:51:56.692603Z",
     "start_time": "2021-07-08T23:51:56.682631Z"
    }
   },
   "outputs": [],
   "source": [
    "# Seu código aqui"
   ]
  },
  {
   "cell_type": "markdown",
   "metadata": {},
   "source": [
    "#### Imprima o tipo de `tup`. \n",
    "\n",
    "Certifique-se que o tipo está correto (*tuple*, e não *str*)."
   ]
  },
  {
   "cell_type": "code",
   "execution_count": null,
   "metadata": {
    "ExecuteTime": {
     "end_time": "2021-07-08T23:50:01.427985Z",
     "start_time": "2021-07-08T23:50:01.415019Z"
    }
   },
   "outputs": [],
   "source": [
    "# Seu código aqui"
   ]
  },
  {
   "cell_type": "markdown",
   "metadata": {
    "ExecuteTime": {
     "end_time": "2021-07-08T23:50:20.381841Z",
     "start_time": "2021-07-08T23:50:20.363888Z"
    }
   },
   "source": [
    "#### Agora, tente adicionar os seguintes elementos a `tup`:\n",
    "\n",
    "```\n",
    "\"r\", \"o\", \"n\", \"h\", \"a\", \"c\", \"k\"\n",
    "```\n",
    "Você consegue fazer isso? Explique."
   ]
  },
  {
   "cell_type": "code",
   "execution_count": null,
   "metadata": {
    "ExecuteTime": {
     "end_time": "2021-07-08T23:51:58.788956Z",
     "start_time": "2021-07-08T23:51:58.779982Z"
    }
   },
   "outputs": [],
   "source": [
    "# Seu código aqui"
   ]
  },
  {
   "cell_type": "markdown",
   "metadata": {},
   "source": [
    "#### E se atribuirmos um novo valor para uma tupla existente?\n",
    "\n",
    "Atribua os seguintes elementos a `tup`:\n",
    "```\n",
    "\"I\", \"r\", \"o\", \"n\", \"h\", \"a\", \"c\", \"k\"\n",
    "```\n",
    "Você consegue fazer isso? Explique."
   ]
  },
  {
   "cell_type": "code",
   "execution_count": null,
   "metadata": {},
   "outputs": [],
   "source": [
    "# Seu código aqui"
   ]
  },
  {
   "cell_type": "markdown",
   "metadata": {},
   "source": [
    "Chamamos essa reatribuição de **sobrescrever**. Quando sobrescrevemos, não estamos operando uma _mudança_ na tupla original (`\"I\"`). Estamos atribuindo à variável que armazenava o elemento tupla (`\"I\"`) um novo elemento - no caso, uma nova tupla."
   ]
  },
  {
   "cell_type": "markdown",
   "metadata": {},
   "source": [
    "#### Separe `tup` em `tup1` e `tup2`, com 4 elementos cada.\n",
    "\n",
    "Os primeiros 4 elementos de `tup` devem estar em `tup1`, e os 4 últimos, em `tup2`.\n",
    "\n",
    "*Dica: use índices positivos para atribuir os elementos de `tup1`, e índices negativos para os de `tup2`.*\n",
    "\n",
    "Imprima `tup1` e `tup2`."
   ]
  },
  {
   "cell_type": "code",
   "execution_count": null,
   "metadata": {
    "ExecuteTime": {
     "end_time": "2021-07-08T23:54:11.398097Z",
     "start_time": "2021-07-08T23:54:11.386128Z"
    }
   },
   "outputs": [],
   "source": [
    "# Seu código aqui"
   ]
  },
  {
   "cell_type": "markdown",
   "metadata": {
    "ExecuteTime": {
     "end_time": "2021-07-08T23:54:25.640646Z",
     "start_time": "2021-07-08T23:54:25.627682Z"
    }
   },
   "source": [
    "#### Some `tup1` e `tup2` na variável `tup3`, usando o operador `+`.\n",
    "\n",
    "Então imprima `tup3` e confira se `tup3` é igual a `tup`."
   ]
  },
  {
   "cell_type": "code",
   "execution_count": null,
   "metadata": {
    "ExecuteTime": {
     "end_time": "2021-07-08T23:54:43.226313Z",
     "start_time": "2021-07-08T23:54:43.210105Z"
    }
   },
   "outputs": [],
   "source": [
    "# Seu código aqui"
   ]
  },
  {
   "cell_type": "markdown",
   "metadata": {},
   "source": [
    "#### Conte o número de elementos em `tup1` e `tup2`. Então some os dois números e confira se o resultado é igual ao número de elementos de `tup3`."
   ]
  },
  {
   "cell_type": "code",
   "execution_count": null,
   "metadata": {
    "ExecuteTime": {
     "end_time": "2021-07-08T23:55:49.173713Z",
     "start_time": "2021-07-08T23:55:49.161746Z"
    }
   },
   "outputs": [],
   "source": [
    "# Seu código aqui"
   ]
  },
  {
   "cell_type": "markdown",
   "metadata": {},
   "source": [
    "#### Qual é o índice de `\"h\"` em `tup3`?"
   ]
  },
  {
   "cell_type": "code",
   "execution_count": null,
   "metadata": {
    "ExecuteTime": {
     "end_time": "2021-07-08T23:57:15.505867Z",
     "start_time": "2021-07-08T23:57:15.493896Z"
    }
   },
   "outputs": [],
   "source": [
    "# Seu código aqui"
   ]
  },
  {
   "cell_type": "markdown",
   "metadata": {},
   "source": [
    "-----------------------------------"
   ]
  },
  {
   "cell_type": "markdown",
   "metadata": {},
   "source": [
    "## Dicionários"
   ]
  },
  {
   "cell_type": "markdown",
   "metadata": {},
   "source": [
    "#### Agora, vamos praticar dicionários!\n",
    "Temos o seguinte dicionário com ítens para comprar num mercado."
   ]
  },
  {
   "cell_type": "code",
   "execution_count": null,
   "metadata": {
    "ExecuteTime": {
     "end_time": "2021-07-08T23:21:06.002473Z",
     "start_time": "2021-07-08T23:21:05.996491Z"
    }
   },
   "outputs": [],
   "source": [
    "mercado = {'bread':3, 'rice':2, 'cereals':4, 'eggs':12}"
   ]
  },
  {
   "cell_type": "markdown",
   "metadata": {},
   "source": [
    "#### Quais são as chaves (`keys`) do dicionário?"
   ]
  },
  {
   "cell_type": "code",
   "execution_count": null,
   "metadata": {
    "ExecuteTime": {
     "end_time": "2021-07-08T23:34:27.540647Z",
     "start_time": "2021-07-08T23:34:27.518102Z"
    }
   },
   "outputs": [],
   "source": [
    "# Seu código aqui"
   ]
  },
  {
   "cell_type": "markdown",
   "metadata": {
    "ExecuteTime": {
     "end_time": "2021-07-08T23:35:03.509140Z",
     "start_time": "2021-07-08T23:35:03.501165Z"
    }
   },
   "source": [
    "#### Quais são os valores (`values`) do dicionário?"
   ]
  },
  {
   "cell_type": "code",
   "execution_count": null,
   "metadata": {
    "ExecuteTime": {
     "end_time": "2021-07-09T00:01:34.726273Z",
     "start_time": "2021-07-09T00:01:34.713721Z"
    }
   },
   "outputs": [],
   "source": [
    "# Seu código aqui"
   ]
  },
  {
   "cell_type": "markdown",
   "metadata": {},
   "source": [
    "#### Qual é o valor associado à chave `bread`?"
   ]
  },
  {
   "cell_type": "code",
   "execution_count": null,
   "metadata": {
    "ExecuteTime": {
     "end_time": "2021-07-08T23:37:56.368187Z",
     "start_time": "2021-07-08T23:37:56.355215Z"
    }
   },
   "outputs": [],
   "source": [
    "# Seu código aqui"
   ]
  },
  {
   "cell_type": "markdown",
   "metadata": {},
   "source": [
    "#### Agora, tente criar um novo dicionário, chamado `contatos`, baseado na tabela abaixo. Os nomes devem ser as chaves, e os números de telefone, os valores.\n",
    "\n",
    "| Nome | Telefone |\n",
    "| --- | --- | \n",
    "| Valentina | 803-5114  |\n",
    "| Tyler | 805-5120  |\n",
    "| Camila | 805-1278 |\n",
    "| James | 805-3450 |"
   ]
  },
  {
   "cell_type": "code",
   "execution_count": null,
   "metadata": {
    "ExecuteTime": {
     "end_time": "2021-07-08T23:41:36.196046Z",
     "start_time": "2021-07-08T23:41:36.188063Z"
    }
   },
   "outputs": [],
   "source": [
    "# Seu código aqui"
   ]
  },
  {
   "cell_type": "markdown",
   "metadata": {},
   "source": [
    "#### Adicione essa nova pessoa ao dicionário:\n",
    "\n",
    "| Manoel | 803-8080 |\n",
    "| --- | --- |"
   ]
  },
  {
   "cell_type": "code",
   "execution_count": null,
   "metadata": {
    "ExecuteTime": {
     "end_time": "2021-07-08T23:45:13.945989Z",
     "start_time": "2021-07-08T23:45:13.930030Z"
    }
   },
   "outputs": [],
   "source": [
    "# Seu código aqui"
   ]
  },
  {
   "cell_type": "markdown",
   "metadata": {},
   "source": [
    "#### Crie uma lista com os números de telefone."
   ]
  },
  {
   "cell_type": "code",
   "execution_count": null,
   "metadata": {
    "ExecuteTime": {
     "end_time": "2021-07-08T23:45:49.413949Z",
     "start_time": "2021-07-08T23:45:49.402978Z"
    }
   },
   "outputs": [],
   "source": [
    "# Seu código aqui"
   ]
  },
  {
   "cell_type": "markdown",
   "metadata": {
    "ExecuteTime": {
     "end_time": "2021-07-08T23:25:54.972662Z",
     "start_time": "2021-07-08T23:25:54.960693Z"
    }
   },
   "source": [
    "###  Bônus - Dicionário\n",
    "\n",
    "A primeira coisa que vamos praticar é como ordenar as chaves num dicionário. Diferentemente do objeto `lista`, o objeto `dicionário` não tem um método de ordenação próprio. Precisaremos usar um loop `for` para ordenar dicionários, seja por chaves ou por valores.\n",
    "\n",
    "O dicionário abaixo é um compilado das palavras da música _Shape of You_, acompanhadas das respectivas frequências com que aparecem na letra."
   ]
  },
  {
   "cell_type": "code",
   "execution_count": null,
   "metadata": {
    "ExecuteTime": {
     "end_time": "2021-07-08T23:26:35.849792Z",
     "start_time": "2021-07-08T23:26:35.821869Z"
    }
   },
   "outputs": [],
   "source": [
    "word_freq = {'love': 25, 'conversation': 1, 'every': 6, \"we're\": 1, 'plate': 1, 'sour': 1, 'jukebox': 1, 'now': 11, 'taxi': 1, 'fast': 1, 'bag': 1, 'man': 1, 'push': 3, 'baby': 14, 'going': 1, 'you': 16, \"don't\": 2, 'one': 1, 'mind': 2, 'backseat': 1, 'friends': 1, 'then': 3, 'know': 2, 'take': 1, 'play': 1, 'okay': 1, 'so': 2, 'begin': 1, 'start': 2, 'over': 1, 'body': 17, 'boy': 2, 'just': 1, 'we': 7, 'are': 1, 'girl': 2, 'tell': 1, 'singing': 2, 'drinking': 1, 'put': 3, 'our': 1, 'where': 1, \"i'll\": 1, 'all': 1, \"isn't\": 1, 'make': 1, 'lover': 1, 'get': 1, 'radio': 1, 'give': 1, \"i'm\": 23, 'like': 10, 'can': 1, 'doing': 2, 'with': 22, 'club': 1, 'come': 37, 'it': 1, 'somebody': 2, 'handmade': 2, 'out': 1, 'new': 6, 'room': 3, 'chance': 1, 'follow': 6, 'in': 27, 'may': 2, 'brand': 6, 'that': 2, 'magnet': 3, 'up': 3, 'first': 1, 'and': 23, 'pull': 3, 'of': 6, 'table': 1, 'much': 2, 'last': 3, 'i': 6, 'thrifty': 1, 'grab': 2, 'was': 2, 'driver': 1, 'slow': 1, 'dance': 1, 'the': 18, 'say': 2, 'trust': 1, 'family': 1, 'week': 1, 'date': 1, 'me': 10, 'do': 3, 'waist': 2, 'smell': 3, 'day': 6, 'although': 3, 'your': 21, 'leave': 1, 'want': 2, \"let's\": 2, 'lead': 6, 'at': 1, 'hand': 1, 'how': 1, 'talk': 4, 'not': 2, 'eat': 1, 'falling': 3, 'about': 1, 'story': 1, 'sweet': 1, 'best': 1, 'crazy': 2, 'let': 1, 'too': 5, 'van': 1, 'shots': 1, 'go': 2, 'to': 2, 'a': 8, 'my': 33, 'is': 5, 'place': 1, 'find': 1, 'shape': 6, 'on': 40, 'kiss': 1, 'were': 3, 'night': 3, 'heart': 3, 'for': 3, 'discovering': 6, 'something': 6, 'be': 16, 'bedsheets': 3, 'fill': 2, 'hours': 2, 'stop': 1, 'bar': 1}"
   ]
  },
  {
   "cell_type": "markdown",
   "metadata": {},
   "source": [
    "Há várias formas de atingir o objetivo proposto, mas muitas delas exigem conteúdos que ainda não abordamos. Vamos resolver essa questão com o que aprendemos até agora. Mas sinta-se à vontade para resolver como quiser!\n",
    "\n",
    "1. Primeiro, crie uma lista chamada `keys` com as chaves do dicionário `word_freq`.\n",
    "\n",
    "2. Ordene a lista `keys`.\n",
    "\n",
    "3. Agora, crie um dicionário vazio chamado `word_freq2`.\n",
    "\n",
    "4. Use um loop `for` para iterar os elementos de `keys`. Para cada iteração, ache o respectivo valor em `word_freq`, e adicione o par chave-valor em `word_freq2`.\n",
    "\n",
    "Imprima `word_freq2` para conferir suas chaves e valores. Seu resultado deve ser este:\n",
    "\n",
    "```python\n",
    "{'a': 8, 'about': 1, 'all': 1, 'although': 3, 'and': 23, 'are': 1, 'at': 1, 'baby': 14, 'backseat': 1, 'bag': 1, 'bar': 1, 'be': 16, 'bedsheets': 3, 'begin': 1, 'best': 1, 'body': 17, 'boy': 2, 'brand': 6, 'can': 1, 'chance': 1, 'club': 1, 'come': 37, 'conversation': 1, 'crazy': 2, 'dance': 1, 'date': 1, 'day': 6, 'discovering': 6, 'do': 3, 'doing': 2, \"don't\": 2, 'drinking': 1, 'driver': 1, 'eat': 1, 'every': 6, 'falling': 3, 'family': 1, 'fast': 1, 'fill': 2, 'find': 1, 'first': 1, 'follow': 6, 'for': 3, 'friends': 1, 'get': 1, 'girl': 2, 'give': 1, 'go': 2, 'going': 1, 'grab': 2, 'hand': 1, 'handmade': 2, 'heart': 3, 'hours': 2, 'how': 1, 'i': 6, \"i'll\": 1, \"i'm\": 23, 'in': 27, 'is': 5, \"isn't\": 1, 'it': 1, 'jukebox': 1, 'just': 1, 'kiss': 1, 'know': 2, 'last': 3, 'lead': 6, 'leave': 1, 'let': 1, \"let's\": 2, 'like': 10, 'love': 25, 'lover': 1, 'magnet': 3, 'make': 1, 'man': 1, 'may': 2, 'me': 10, 'mind': 2, 'much': 2, 'my': 33, 'new': 6, 'night': 3, 'not': 2, 'now': 11, 'of': 6, 'okay': 1, 'on': 40, 'one': 1, 'our': 1, 'out': 1, 'over': 1, 'place': 1, 'plate': 1, 'play': 1, 'pull': 3, 'push': 3, 'put': 3, 'radio': 1, 'room': 3, 'say': 2, 'shape': 6, 'shots': 1, 'singing': 2, 'slow': 1, 'smell': 3, 'so': 2, 'somebody': 2, 'something': 6, 'sour': 1, 'start': 2, 'stop': 1, 'story': 1, 'sweet': 1, 'table': 1, 'take': 1, 'talk': 4, 'taxi': 1, 'tell': 1, 'that': 2, 'the': 18, 'then': 3, 'thrifty': 1, 'to': 2, 'too': 5, 'trust': 1, 'up': 3, 'van': 1, 'waist': 2, 'want': 2, 'was': 2, 'we': 7, \"we're\": 1, 'week': 1, 'were': 3, 'where': 1, 'with': 22, 'you': 16, 'your': 21}\n",
    "```"
   ]
  },
  {
   "cell_type": "code",
   "execution_count": null,
   "metadata": {
    "ExecuteTime": {
     "end_time": "2021-07-08T23:46:18.056377Z",
     "start_time": "2021-07-08T23:46:18.042413Z"
    }
   },
   "outputs": [],
   "source": [
    "# Seu código aqui"
   ]
  },
  {
   "cell_type": "markdown",
   "metadata": {
    "ExecuteTime": {
     "end_time": "2021-07-09T00:16:56.821576Z",
     "start_time": "2021-07-09T00:16:56.806613Z"
    }
   },
   "source": [
    "-----------------------------------"
   ]
  },
  {
   "cell_type": "markdown",
   "metadata": {
    "ExecuteTime": {
     "end_time": "2021-07-08T22:57:16.116415Z",
     "start_time": "2021-07-08T22:57:16.096877Z"
    }
   },
   "source": [
    "## Conjuntos"
   ]
  },
  {
   "cell_type": "markdown",
   "metadata": {},
   "source": [
    "#### Para começarmos, importe o módulo `random`."
   ]
  },
  {
   "cell_type": "code",
   "execution_count": null,
   "metadata": {
    "ExecuteTime": {
     "end_time": "2021-07-09T00:14:31.353350Z",
     "start_time": "2021-07-09T00:14:31.335481Z"
    }
   },
   "outputs": [],
   "source": [
    "import random"
   ]
  },
  {
   "cell_type": "markdown",
   "metadata": {},
   "source": [
    "#### Na célula abaixo, crie uma lista chamada `sample_list_1` com 80 valores aleatórios.\n",
    "\n",
    "Requisitos:\n",
    "\n",
    "* Cada valor é um inteiro entre 0 e 100.\n",
    "* Cada valor na lista é único.\n",
    "\n",
    "Imprima `sample_list_1` to review its values\n",
    "\n",
    "*Dica: use `random.sample` ([referência](https://docs.python.org/3/library/random.html#random.sample)).*"
   ]
  },
  {
   "cell_type": "code",
   "execution_count": null,
   "metadata": {
    "ExecuteTime": {
     "end_time": "2021-07-09T00:14:32.868805Z",
     "start_time": "2021-07-09T00:14:32.855736Z"
    }
   },
   "outputs": [],
   "source": [
    "# Seu código aqui"
   ]
  },
  {
   "cell_type": "markdown",
   "metadata": {},
   "source": [
    "#### Converta `sample_list_1` em conjunto. Atribua a conversão à variável `set1`. Imprima o comprimento do conjunto. Ainda é 80?"
   ]
  },
  {
   "cell_type": "code",
   "execution_count": null,
   "metadata": {
    "ExecuteTime": {
     "end_time": "2021-07-09T00:15:01.576061Z",
     "start_time": "2021-07-09T00:15:01.559111Z"
    }
   },
   "outputs": [],
   "source": [
    "# Seu código aqui"
   ]
  },
  {
   "cell_type": "markdown",
   "metadata": {
    "ExecuteTime": {
     "end_time": "2021-07-09T00:15:14.556665Z",
     "start_time": "2021-07-09T00:15:14.550682Z"
    }
   },
   "source": [
    "#### Crie outra lista, chamada `sample_list_2` com 80 valores aleatórios.\n",
    "\n",
    "Requisitos:\n",
    "\n",
    "* Cada valor é um inteiro entre 0 e 100.\n",
    "* Os valores nesta lista não precisam ser únicos.\n",
    "\n",
    "*Dica: use um loop `for`.*"
   ]
  },
  {
   "cell_type": "code",
   "execution_count": null,
   "metadata": {
    "ExecuteTime": {
     "end_time": "2021-07-09T00:18:07.277010Z",
     "start_time": "2021-07-09T00:18:07.269050Z"
    }
   },
   "outputs": [],
   "source": [
    "# Seu código aqui"
   ]
  },
  {
   "cell_type": "markdown",
   "metadata": {
    "ExecuteTime": {
     "end_time": "2021-07-09T00:15:33.753627Z",
     "start_time": "2021-07-09T00:15:33.735058Z"
    }
   },
   "source": [
    "#### Converta `sample_list_2` em conjunto. Atribua a conversão à variável `set2`. Imprima o comprimento do conjunto. Ainda é 80?"
   ]
  },
  {
   "cell_type": "code",
   "execution_count": null,
   "metadata": {
    "ExecuteTime": {
     "end_time": "2021-07-09T00:18:10.351636Z",
     "start_time": "2021-07-09T00:18:10.343660Z"
    }
   },
   "outputs": [],
   "source": [
    "# Seu código aqui"
   ]
  },
  {
   "cell_type": "markdown",
   "metadata": {},
   "source": [
    "#### Identifique os elementos presentes em `set1`, mas não em `set2`. Atribua-os a um novo conjunto, chamado `set3`."
   ]
  },
  {
   "cell_type": "code",
   "execution_count": null,
   "metadata": {
    "ExecuteTime": {
     "end_time": "2021-07-09T00:18:55.555183Z",
     "start_time": "2021-07-09T00:18:55.544211Z"
    }
   },
   "outputs": [],
   "source": [
    "# Seu código aqui"
   ]
  },
  {
   "cell_type": "markdown",
   "metadata": {},
   "source": [
    "#### Identifique os elementos presentes em `set2`, mas não em `set1`. Atribua-os a um novo conjunto, chamado `set4`."
   ]
  },
  {
   "cell_type": "code",
   "execution_count": null,
   "metadata": {
    "ExecuteTime": {
     "end_time": "2021-07-09T00:18:57.447096Z",
     "start_time": "2021-07-09T00:18:57.432132Z"
    }
   },
   "outputs": [],
   "source": [
    "# Seu código aqui"
   ]
  },
  {
   "cell_type": "markdown",
   "metadata": {},
   "source": [
    "#### Agora, identifique os elementos presentes tanto em `set1` quanto em `set2`. Atribua-os a um novo conjunto, chamado `set5`."
   ]
  },
  {
   "cell_type": "code",
   "execution_count": null,
   "metadata": {
    "ExecuteTime": {
     "end_time": "2021-07-09T00:19:13.178526Z",
     "start_time": "2021-07-09T00:19:13.159578Z"
    }
   },
   "outputs": [],
   "source": [
    "# Seu código aqui"
   ]
  },
  {
   "cell_type": "markdown",
   "metadata": {},
   "source": [
    "#### Qual é a relação entre os seguintes valores?\n",
    "\n",
    "* len(set1)\n",
    "* len(set2)\n",
    "* len(set3)\n",
    "* len(set4)\n",
    "* len(set5)\n",
    "\n",
    "Use fórmulas matemáticas e operadores de comparação para mostrar essas relações."
   ]
  },
  {
   "cell_type": "code",
   "execution_count": null,
   "metadata": {
    "ExecuteTime": {
     "end_time": "2021-07-09T00:19:15.179734Z",
     "start_time": "2021-07-09T00:19:15.159773Z"
    }
   },
   "outputs": [],
   "source": [
    "# Seu código aqui"
   ]
  },
  {
   "cell_type": "markdown",
   "metadata": {},
   "source": [
    "#### Crie um conjunto vazio chamado `set6`.\n",
    "_Dica: será necessário usar a função `set()`._"
   ]
  },
  {
   "cell_type": "code",
   "execution_count": null,
   "metadata": {
    "ExecuteTime": {
     "end_time": "2021-07-09T00:19:21.417848Z",
     "start_time": "2021-07-09T00:19:21.399879Z"
    }
   },
   "outputs": [],
   "source": [
    "# Seu código aqui"
   ]
  },
  {
   "cell_type": "markdown",
   "metadata": {},
   "source": [
    "#### Usando o método `.update()`, adicione os conjuntos `set3` e `set5` a `set6`."
   ]
  },
  {
   "cell_type": "code",
   "execution_count": null,
   "metadata": {
    "ExecuteTime": {
     "end_time": "2021-07-09T00:19:24.772819Z",
     "start_time": "2021-07-09T00:19:24.759838Z"
    }
   },
   "outputs": [],
   "source": [
    "# Seu código aqui"
   ]
  },
  {
   "cell_type": "markdown",
   "metadata": {},
   "source": [
    "#### Confira se `set1` e `set6` são iguais."
   ]
  },
  {
   "cell_type": "code",
   "execution_count": null,
   "metadata": {
    "ExecuteTime": {
     "end_time": "2021-07-09T00:19:29.492808Z",
     "start_time": "2021-07-09T00:19:29.479832Z"
    }
   },
   "outputs": [],
   "source": [
    "# Seu código aqui"
   ]
  },
  {
   "cell_type": "markdown",
   "metadata": {},
   "source": [
    "#### Usando o método `.issubset()`, confira se `set1` contém `set2`. Depois, confira se `set1` contém `set3`."
   ]
  },
  {
   "cell_type": "code",
   "execution_count": null,
   "metadata": {
    "ExecuteTime": {
     "end_time": "2021-07-09T00:20:47.490806Z",
     "start_time": "2021-07-09T00:20:47.479831Z"
    }
   },
   "outputs": [],
   "source": [
    "# Seu código aqui"
   ]
  },
  {
   "cell_type": "markdown",
   "metadata": {},
   "source": [
    "#### Usando o método `.union()`, agregue `set3`, `set4` e `set5`. Depois, agregue `set1` e `set2`.\n",
    "\n",
    "#### Confira se as agregações são iguais."
   ]
  },
  {
   "cell_type": "code",
   "execution_count": null,
   "metadata": {
    "ExecuteTime": {
     "end_time": "2021-07-09T00:21:39.914094Z",
     "start_time": "2021-07-09T00:21:39.896143Z"
    }
   },
   "outputs": [],
   "source": [
    "# Seu código aqui"
   ]
  },
  {
   "cell_type": "markdown",
   "metadata": {},
   "source": [
    "#### Usando o método `.pop()`, tire o primeiro elemento de `set1`."
   ]
  },
  {
   "cell_type": "code",
   "execution_count": null,
   "metadata": {
    "ExecuteTime": {
     "end_time": "2021-07-09T00:21:46.905409Z",
     "start_time": "2021-07-09T00:21:46.887547Z"
    }
   },
   "outputs": [],
   "source": [
    "# Seu código aqui"
   ]
  },
  {
   "cell_type": "markdown",
   "metadata": {},
   "source": [
    "#### Tire de `set1` todos os elementos que apareçam na seguinte lista:\n",
    "```\n",
    "list_to_remove = [1, 9, 11, 19, 21, 29, 31, 39, 41, 49, 51, 59, 61, 69, 71, 79, 81]\n",
    "```\n",
    "Imprima os elementos restantes."
   ]
  },
  {
   "cell_type": "code",
   "execution_count": null,
   "metadata": {
    "ExecuteTime": {
     "end_time": "2021-07-09T00:22:36.957563Z",
     "start_time": "2021-07-09T00:22:36.936622Z"
    }
   },
   "outputs": [],
   "source": [
    "# Seu código aqui"
   ]
  }
 ],
 "metadata": {
  "kernelspec": {
   "display_name": "Python 3.9.7 ('base')",
   "language": "python",
   "name": "python3"
  },
  "language_info": {
   "codemirror_mode": {
    "name": "ipython",
    "version": 3
   },
   "file_extension": ".py",
   "mimetype": "text/x-python",
   "name": "python",
   "nbconvert_exporter": "python",
   "pygments_lexer": "ipython3",
   "version": "3.9.7"
  },
  "toc": {
   "base_numbering": 1,
   "nav_menu": {},
   "number_sections": true,
   "sideBar": true,
   "skip_h1_title": false,
   "title_cell": "Table of Contents",
   "title_sidebar": "Contents",
   "toc_cell": false,
   "toc_position": {},
   "toc_section_display": true,
   "toc_window_display": false
  },
  "vscode": {
   "interpreter": {
    "hash": "7869b160c3910301faef0a277a4870fbba5b5242c72c77312845f42f06961f70"
   }
  }
 },
 "nbformat": 4,
 "nbformat_minor": 4
}

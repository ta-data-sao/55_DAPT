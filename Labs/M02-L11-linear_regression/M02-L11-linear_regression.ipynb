{
 "cells": [
  {
   "cell_type": "markdown",
   "metadata": {},
   "source": [
    "# Lab | Análise de Regressão"
   ]
  },
  {
   "cell_type": "markdown",
   "metadata": {},
   "source": [
    "### Importe as bibliotecas aqui:"
   ]
  },
  {
   "cell_type": "code",
   "execution_count": null,
   "metadata": {},
   "outputs": [],
   "source": [
    "# Seu código aqui"
   ]
  },
  {
   "cell_type": "markdown",
   "metadata": {},
   "source": [
    "# Desafio 1\n",
    "- Trabalho num bootcamp de análise de dados, e desenvolvi uma teoria de que, quanto mais novos os alunos, mais frequentemente eles se atrasam para a aula.\n",
    "- A fim de testar minha hipótese, coletei alguns dados na seguinte tabela:\n",
    "\n",
    "| studante_id | idade | atraso |\n",
    "|-------------|-----|---------|\n",
    "|      1      | 17  |   10    |\n",
    "|      2      | 51  |    1    |\n",
    "|      3      | 27  |    5    |\n",
    "|      4      | 21  |    9    |\n",
    "|      5      | 36  |    4    |\n",
    "|      6      | 48  |    2    |\n",
    "|      7      | 19  |    9    |\n",
    "|      8      | 26  |    6    |\n",
    "|      9      | 54  |    0    |\n",
    "|     10      | 30  |    3    |"
   ]
  },
  {
   "cell_type": "markdown",
   "metadata": {},
   "source": [
    "## Criando o dataframe\n",
    "\n",
    "Use este comando para criar o dataframe:\n",
    "```python\n",
    "dados_estudantes = pd.DataFrame({'estudante_id': [i for i in range(1, 11)],\n",
    "                                 'idade': [17, 51, 27, 21, 36, 48, 19, 26, 54, 30],\n",
    "                                 'atraso': [10, 1, 5, 9, 4, 2, 9, 6, 0, 3]})\n",
    "```"
   ]
  },
  {
   "cell_type": "code",
   "execution_count": null,
   "metadata": {},
   "outputs": [],
   "source": [
    "# Seu código aqui"
   ]
  },
  {
   "cell_type": "markdown",
   "metadata": {},
   "source": [
    "## Plote seus dados\n",
    "- Use  `sns.scatterplot()` para plotar `idade` versus `atrasos`."
   ]
  },
  {
   "cell_type": "code",
   "execution_count": null,
   "metadata": {},
   "outputs": [],
   "source": [
    "# Seu código aqui"
   ]
  },
  {
   "cell_type": "markdown",
   "metadata": {},
   "source": [
    "- Você também pode usar `sns.pairplot()`."
   ]
  },
  {
   "cell_type": "code",
   "execution_count": null,
   "metadata": {},
   "outputs": [],
   "source": [
    "# Seu código aqui"
   ]
  },
  {
   "cell_type": "markdown",
   "metadata": {},
   "source": [
    "- Você vê uma tendência?\n",
    "- Pode assumir alguma hipótese sobre a relação entre a idade e o número de atrasos?"
   ]
  },
  {
   "cell_type": "code",
   "execution_count": null,
   "metadata": {},
   "outputs": [],
   "source": [
    "# Seu código aqui"
   ]
  },
  {
   "cell_type": "markdown",
   "metadata": {},
   "source": [
    "## Correlação"
   ]
  },
  {
   "cell_type": "markdown",
   "metadata": {},
   "source": [
    "- Calcule a correlação entre as variáveis.\n",
    "- Use `.corr()`."
   ]
  },
  {
   "cell_type": "code",
   "execution_count": null,
   "metadata": {},
   "outputs": [],
   "source": [
    "# Seu código aqui"
   ]
  },
  {
   "cell_type": "markdown",
   "metadata": {},
   "source": [
    "## Regressão linear"
   ]
  },
  {
   "cell_type": "markdown",
   "metadata": {},
   "source": [
    "- Faça um modelo de regressão linear para esses dados. \n",
    "- Você pode usar a biblioteca scikit-learn:\n",
    "```python\n",
    "from sklearn.linear_model import LinearRegression\n",
    "```"
   ]
  },
  {
   "cell_type": "markdown",
   "metadata": {},
   "source": [
    "### Selecione as variáveis\n",
    "- Defina as variáveis `X` e `y`.\n",
    "- `X` será sua variável independente: **\"idade\"**\n",
    "- `y` será sua variável dependente: **\"atraso\"**"
   ]
  },
  {
   "cell_type": "code",
   "execution_count": null,
   "metadata": {},
   "outputs": [],
   "source": [
    "# Seu código aqui"
   ]
  },
  {
   "cell_type": "markdown",
   "metadata": {},
   "source": [
    "### Treino e teste\n",
    "- Separe os dados em treino e teste::\n",
    "- `X_treino`, `X_teste`, `y_treino`, `y_teste`"
   ]
  },
  {
   "cell_type": "code",
   "execution_count": null,
   "metadata": {},
   "outputs": [],
   "source": [
    "# Seu código aqui"
   ]
  },
  {
   "cell_type": "markdown",
   "metadata": {},
   "source": [
    "### Modelando\n",
    "- Instancie a classe `LinearRegression`."
   ]
  },
  {
   "cell_type": "code",
   "execution_count": null,
   "metadata": {},
   "outputs": [],
   "source": [
    "# Seu código aqui"
   ]
  },
  {
   "cell_type": "markdown",
   "metadata": {},
   "source": [
    "### Ajuste o modelo \n",
    "- Ajuste o modelo - o algoritmo vai aprender seus padrões de dados."
   ]
  },
  {
   "cell_type": "code",
   "execution_count": null,
   "metadata": {},
   "outputs": [],
   "source": [
    "# Seu código aqui"
   ]
  },
  {
   "cell_type": "markdown",
   "metadata": {},
   "source": [
    "### Previsão\n",
    "- Preveja o `y_teste` que separamos.\n",
    "- Salve numa variável chamada `y_teste_previsto`."
   ]
  },
  {
   "cell_type": "code",
   "execution_count": null,
   "metadata": {},
   "outputs": [],
   "source": [
    "# Seu código aqui"
   ]
  },
  {
   "cell_type": "markdown",
   "metadata": {},
   "source": [
    "### Avalie (teste)\n",
    "- Use as métricas abaixo para avaliar seu modelo.\n",
    "- Use `y_teste` e `y_teste_previsto`.\n",
    "```python\n",
    "from sklearn.metrics import mean_squared_error, r2_score\n",
    "```"
   ]
  },
  {
   "cell_type": "code",
   "execution_count": null,
   "metadata": {},
   "outputs": [],
   "source": [
    "# Seu código aqui"
   ]
  },
  {
   "cell_type": "markdown",
   "metadata": {},
   "source": [
    "### Coeficiente e intercepto\n",
    "- Use `model.coef_` e `model.intercept_`.\n",
    "- Você pode interpretar os valores obtidos?"
   ]
  },
  {
   "cell_type": "code",
   "execution_count": null,
   "metadata": {},
   "outputs": [],
   "source": [
    "# Seu código aqui"
   ]
  },
  {
   "cell_type": "markdown",
   "metadata": {},
   "source": [
    "- Esta é a equação da regressão linear:\n",
    "__y= mX + b__\n",
    "> * y: variável alvo\n",
    "> * X: variáveis preditivas\n",
    "- Coeficiente de -0.24: significa, para cada unidade de mudança de X (idade) no sentido positivo, y (atraso) mudará 0.24 unidades no sentido negativo. \n",
    "- Em outras palavras: para cada ano a mais, o número de atrasos cai em 0.24 (aproximadamente um atraso a menos para cada 4 anos a mais)."
   ]
  },
  {
   "cell_type": "markdown",
   "metadata": {},
   "source": [
    "### Visualize os resultados\n",
    "- Use o modelo que você criou para prever os atrasos - você vai usar `X`.\n",
    "- Inclua atrasos previsíveis no dataframe."
   ]
  },
  {
   "cell_type": "code",
   "execution_count": null,
   "metadata": {},
   "outputs": [],
   "source": [
    "# Seu código aqui"
   ]
  },
  {
   "cell_type": "markdown",
   "metadata": {},
   "source": [
    "### Plote\n",
    "- Você pode usar o código abaixo:\n",
    "```python\n",
    "plt.scatter(X, y)\n",
    "plt.plot(X, y_previsto, color='red')\n",
    "```"
   ]
  },
  {
   "cell_type": "code",
   "execution_count": null,
   "metadata": {},
   "outputs": [],
   "source": [
    "# Seu código aqui"
   ]
  },
  {
   "cell_type": "markdown",
   "metadata": {},
   "source": [
    "_______________________________________"
   ]
  },
  {
   "cell_type": "markdown",
   "metadata": {},
   "source": [
    "# Desafio 2"
   ]
  },
  {
   "cell_type": "markdown",
   "metadata": {},
   "source": [
    "- Neste desafio, usaremos o dataset `vehicles.csv`.\n",
    "- Esse dataset inclui variáveis relacionadas a características dos veículos, como modelo, fabricante, padrões de eficiência energética, assim como emissões de CO₂.\n",
    "- O objetivo deste exercício é prever as emissões de CO₂ a partir de várias variáveis independentes."
   ]
  },
  {
   "cell_type": "markdown",
   "metadata": {},
   "source": [
    "### Leia o arquivo csv"
   ]
  },
  {
   "cell_type": "code",
   "execution_count": null,
   "metadata": {},
   "outputs": [],
   "source": [
    "# Seu código aqui"
   ]
  },
  {
   "cell_type": "markdown",
   "metadata": {},
   "source": [
    "### Correlações\n",
    "- Use as variáveis `Year`, `Cylinders`, `Fuel Barrels/Year`, `Combined MPG`, `Fuel Cost/Year` e a coluna-alvo `CO2 Emission Grams/Mile`.\n",
    "- Plote as relações pareadas entre as colunas. Você pode usar `sns.pairplot()`.\n",
    "- Calcule as correlações entre essas variáveis. Você pode usar `.corr()` e especificar a coluna-alvo na sequência.\n",
    "- Analise qual variável é a mais determinante para `CO2 Emission Grams/Mile`."
   ]
  },
  {
   "cell_type": "code",
   "execution_count": null,
   "metadata": {},
   "outputs": [],
   "source": [
    "# Seu código aqui"
   ]
  },
  {
   "cell_type": "markdown",
   "metadata": {},
   "source": [
    "### Regressão linear\n",
    "- Faça uma regressão linear que preveja `CO2 Emission Grams/Mile`."
   ]
  },
  {
   "cell_type": "code",
   "execution_count": null,
   "metadata": {},
   "outputs": [],
   "source": [
    "# Seu código aqui"
   ]
  },
  {
   "cell_type": "markdown",
   "metadata": {},
   "source": [
    "### Prevendo (X_teste)"
   ]
  },
  {
   "cell_type": "code",
   "execution_count": null,
   "metadata": {},
   "outputs": [],
   "source": [
    "# Seu código aqui"
   ]
  },
  {
   "cell_type": "markdown",
   "metadata": {},
   "source": [
    "### Avalie\n",
    "- Use `mean_squared_error()` e `r2_score()`.\n",
    "- Use as variáveis `y_teste` and `y_previsto`."
   ]
  },
  {
   "cell_type": "code",
   "execution_count": null,
   "metadata": {},
   "outputs": [],
   "source": [
    "# Seu código aqui"
   ]
  }
 ],
 "metadata": {
  "hide_input": false,
  "kernelspec": {
   "display_name": "Python 3.9.7 ('base')",
   "language": "python",
   "name": "python3"
  },
  "language_info": {
   "codemirror_mode": {
    "name": "ipython",
    "version": 3
   },
   "file_extension": ".py",
   "mimetype": "text/x-python",
   "name": "python",
   "nbconvert_exporter": "python",
   "pygments_lexer": "ipython3",
   "version": "3.9.7"
  },
  "toc": {
   "base_numbering": 1,
   "nav_menu": {},
   "number_sections": true,
   "sideBar": true,
   "skip_h1_title": false,
   "title_cell": "Table of Contents",
   "title_sidebar": "Contents",
   "toc_cell": false,
   "toc_position": {},
   "toc_section_display": true,
   "toc_window_display": false
  },
  "varInspector": {
   "cols": {
    "lenName": 16,
    "lenType": 16,
    "lenVar": 40
   },
   "kernels_config": {
    "python": {
     "delete_cmd_postfix": "",
     "delete_cmd_prefix": "del ",
     "library": "var_list.py",
     "varRefreshCmd": "print(var_dic_list())"
    },
    "r": {
     "delete_cmd_postfix": ") ",
     "delete_cmd_prefix": "rm(",
     "library": "var_list.r",
     "varRefreshCmd": "cat(var_dic_list()) "
    }
   },
   "types_to_exclude": [
    "module",
    "function",
    "builtin_function_or_method",
    "instance",
    "_Feature"
   ],
   "window_display": false
  },
  "vscode": {
   "interpreter": {
    "hash": "7869b160c3910301faef0a277a4870fbba5b5242c72c77312845f42f06961f70"
   }
  }
 },
 "nbformat": 4,
 "nbformat_minor": 4
}

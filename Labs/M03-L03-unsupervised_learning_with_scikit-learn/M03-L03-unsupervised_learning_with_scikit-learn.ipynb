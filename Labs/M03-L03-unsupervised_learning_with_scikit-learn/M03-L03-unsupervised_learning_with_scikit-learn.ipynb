{
 "cells": [
  {
   "cell_type": "markdown",
   "metadata": {},
   "source": [
    "# LAB | Aprendizado Não-Supervisionado"
   ]
  },
  {
   "cell_type": "markdown",
   "metadata": {
    "id": "wozdeWB1TI9b"
   },
   "source": [
    "## Importe as bibliotecas aqui"
   ]
  },
  {
   "cell_type": "code",
   "execution_count": null,
   "metadata": {},
   "outputs": [],
   "source": [
    "# Seu código aqui"
   ]
  },
  {
   "cell_type": "markdown",
   "metadata": {},
   "source": [
    "# Desafio 1\n",
    "## Importe o dataset\n",
    "- Neste desafio, vamos trabalhar com o dataset de vinhos do scikit-learn. Vamos usar um algoritmo de aglomeração para aprender mais sobre suas funcionalidades.\n",
    "- Começaremos carregando o dataset através de `load_wine` ([documentação aqui](https://scikit-learn.org/stable/modules/generated/sklearn.datasets.load_wine.html)). Na célula abaixo, importaremos o objeto da scikit-learn.\n",
    "- Rode o código abaixo:\n",
    "```python\n",
    "# import the dataset\n",
    "from sklearn.datasets import load_wine\n",
    "wine = load_wine()\n",
    "# Dataset info\n",
    "print(wine['DESCR'])\n",
    "# Creating a dataframe\n",
    "wine_df = pd.DataFrame(wine['data'],columns=wine['feature_names'])\n",
    "```"
   ]
  },
  {
   "cell_type": "code",
   "execution_count": null,
   "metadata": {},
   "outputs": [],
   "source": [
    "# Seu código aqui"
   ]
  },
  {
   "cell_type": "markdown",
   "metadata": {},
   "source": [
    "## Aglomerando o dataset\n",
    "\n",
    "- Nesta parte do lab, vamos aglomerar os dados, a fim de achar características comuns aos diferentes vinhos.\n",
    "- Vamos usar o algoritmo `Kmeans` e `StandardScaler`."
   ]
  },
  {
   "cell_type": "markdown",
   "metadata": {},
   "source": [
    "### Padronização\n",
    "\n",
    "- Padronize `wine_df` e salve-o na variável `wine_stand_arr`.\n",
    "- Vamos usar `StandardScaler` para padronizar as características. \n",
    "```python\n",
    "from sklearn.preprocessing import StandardScaler\n",
    "```"
   ]
  },
  {
   "cell_type": "code",
   "execution_count": null,
   "metadata": {},
   "outputs": [],
   "source": [
    "# Seu código aqui"
   ]
  },
  {
   "cell_type": "markdown",
   "metadata": {},
   "source": [
    "### Criar a aglomeração K-Means\n",
    "\n",
    "- Importe `Kmeans` da biblioteca scikit-learn e crie 4 aglomerados.\n",
    "- Use o dataset padronizado.\n",
    "```python\n",
    "from sklearn.cluster import KMeans\n",
    "```"
   ]
  },
  {
   "cell_type": "code",
   "execution_count": null,
   "metadata": {},
   "outputs": [],
   "source": [
    "# Seu código aqui"
   ]
  },
  {
   "cell_type": "markdown",
   "metadata": {
    "id": "V5y13j_ZTI93"
   },
   "source": [
    "- Mostre os rótulos dos aglomerados, usando o método `.labels_`."
   ]
  },
  {
   "cell_type": "code",
   "execution_count": null,
   "metadata": {},
   "outputs": [],
   "source": [
    "# Seu código aqui"
   ]
  },
  {
   "cell_type": "markdown",
   "metadata": {},
   "source": [
    "- Armazene os rótulos como uma nova coluna do dataframe `wine_df` chamada `clusters`."
   ]
  },
  {
   "cell_type": "code",
   "execution_count": null,
   "metadata": {},
   "outputs": [],
   "source": [
    "# Seu código aqui"
   ]
  },
  {
   "cell_type": "markdown",
   "metadata": {
    "id": "9lz45tQqTI96"
   },
   "source": [
    "- Calcule o tamanho de cada aglomerado.\n",
    "- Isso pode ser feito contando o número de observações que receberam cada rótulo.\n",
    "- Qual é o maior dos 4 aglomerados?"
   ]
  },
  {
   "cell_type": "code",
   "execution_count": null,
   "metadata": {},
   "outputs": [],
   "source": [
    "# Seu código aqui"
   ]
  },
  {
   "cell_type": "markdown",
   "metadata": {},
   "source": [
    "- Agrupe o dataset por `clusters` e use o método `.describe()`, para observar as diferenças entre os aglomerados."
   ]
  },
  {
   "cell_type": "code",
   "execution_count": null,
   "metadata": {},
   "outputs": [],
   "source": [
    "# Seu código aqui"
   ]
  },
  {
   "cell_type": "markdown",
   "metadata": {
    "id": "r_O7RwaQTI-F"
   },
   "source": [
    "# Desafio 2\n",
    "## Carregue o dataset\n",
    "- Neste desafio, vamos trabalhar com o dataset dos pacientes.\n",
    "- Leia o arquivo `patient-admission.csv` e armazene-o na variável `patients`."
   ]
  },
  {
   "cell_type": "code",
   "execution_count": null,
   "metadata": {},
   "outputs": [],
   "source": [
    "# Seu código aqui"
   ]
  },
  {
   "cell_type": "markdown",
   "metadata": {},
   "source": [
    "- Transforme as colunas `patient_dob` e `appointment_date` em datetime usando a função `pd.to_datetime`."
   ]
  },
  {
   "cell_type": "code",
   "execution_count": null,
   "metadata": {},
   "outputs": [],
   "source": [
    "# Seu código aqui"
   ]
  },
  {
   "cell_type": "markdown",
   "metadata": {},
   "source": [
    "- Em seguida, descarte as colunas `id`, `patient_name`, `patient_email`, `patient_nhs_number` e `doctor_phone`. São colunas não-quantitativas e não vão contribuir para nossa análise."
   ]
  },
  {
   "cell_type": "code",
   "execution_count": null,
   "metadata": {},
   "outputs": [],
   "source": [
    "# Seu código aqui"
   ]
  },
  {
   "cell_type": "markdown",
   "metadata": {},
   "source": [
    "### Dados ausentes\n",
    "- Agora trabalharemos nos dados ausentes. A maioria dos algoritmos de aprendizado de máquina não vai performar como desejamos, caso haja valores nulos.\n",
    "- Conte quantos valores nulos existem em cada coluna.\n",
    "- Você deve observar que 3 colunas apresentam dados nulos:\n",
    ">- `doctor_name`: 58 nulos\n",
    ">- `prescribed_medicines`: 488 nulos\n",
    ">- `diagnosis`: 488 nulos"
   ]
  },
  {
   "cell_type": "code",
   "execution_count": null,
   "metadata": {},
   "outputs": [],
   "source": [
    "# Seu código aqui"
   ]
  },
  {
   "cell_type": "markdown",
   "metadata": {
    "id": "8fuXT0NPTI-V"
   },
   "source": [
    "- As principais questões estão nas colunas `prescribed_medicines` e `diagnosis`. Podemos simplesmente descartar essas linhas?\n",
    "- A resposta é _ainda não_. Porque, quando há valores nulos nessas colunas, não significa que os registros estão errados - significa somente que nenhum remédio foi prescrito e/ou nenhum diagnóstico foi dado. Então, uma vez que preenchermos os valores nulos, essas colunas ficarão bem! Mas vamos revisitar essas colunas depois para decidir se vamos descartá-las ou não, a depender da quantidade de valores únicos nessas colunas categóricas\n",
    "- Para a coluna `prescribed_medicines`, preencha os valores nulos com `'no prescription'`. \n",
    "- Para a coluna `diagnosis`, preencha os valores nulos com `'no diagnosis'`."
   ]
  },
  {
   "cell_type": "code",
   "execution_count": null,
   "metadata": {},
   "outputs": [],
   "source": [
    "# Seu código aqui"
   ]
  },
  {
   "cell_type": "markdown",
   "metadata": {
    "id": "eN_Yio2MTI-X"
   },
   "source": [
    "- E quanto à coluna `doctor_name`? \n",
    "- Como uma visita de médico sem o nome do médico pode não ser significativa, vamos descartar essas linhas."
   ]
  },
  {
   "cell_type": "code",
   "execution_count": null,
   "metadata": {},
   "outputs": [],
   "source": [
    "# Seu código aqui"
   ]
  },
  {
   "cell_type": "markdown",
   "metadata": {
    "id": "SRXDUtWWTI-Z"
   },
   "source": [
    "### Codificação de rótulos\n",
    "- Outro passo no pré-processamento dos dados é a codificação dos rótulos.\n",
    "- Temos 4 colunas cujo tipo é boleano, e precisamos convertê-la em numérica.\n",
    "- Uma forma de fazer essa conversão é através do método `.astype(int)`, mas vamos usar outra ferramenta desta vez. \n",
    "- Vamos usar [label encoder](https://scikit-learn.org/stable/modules/generated/sklearn.preprocessing.LabelEncoder.html), da scikit-learn.\n",
    "- Na célula abaixo, importe o codificador de rótulos e codifique as colunas `patient_diabetic`, `patient_allergic`, `patient_show` e `is_regular_visit` com `0` e `1`.\n",
    "\n",
    "```python\n",
    "from sklearn.preprocessing import LabelEncoder\n",
    "```"
   ]
  },
  {
   "cell_type": "code",
   "execution_count": null,
   "metadata": {},
   "outputs": [],
   "source": [
    "# Seu código aqui"
   ]
  },
  {
   "cell_type": "markdown",
   "metadata": {
    "id": "qbg8-8oyTI-b"
   },
   "source": [
    "- Rode `.info()` ou `.dtypes()` para confirmar que essas 4 colunas foram convertidas em `int64`."
   ]
  },
  {
   "cell_type": "code",
   "execution_count": null,
   "metadata": {},
   "outputs": [],
   "source": [
    "# Seu código aqui"
   ]
  },
  {
   "cell_type": "markdown",
   "metadata": {
    "id": "GIL76StZTI-d"
   },
   "source": [
    "#### Dados Objeto\n",
    "- O último passo é lidar com as colunas do tipo `object`.\n",
    "- Há 4 colunas `object` agora: `patient_gender`, `doctor_name`, `prescribed_medicines` e `diagnosis`.\n",
    "- Na próxima célula, cheque os valores únicos de cada uma dessas colunas, usando `value_counts()`."
   ]
  },
  {
   "cell_type": "code",
   "execution_count": null,
   "metadata": {},
   "outputs": [],
   "source": [
    "# Seu código aqui"
   ]
  },
  {
   "cell_type": "markdown",
   "metadata": {
    "id": "Zi3AnuAdTI-f"
   },
   "source": [
    "- O número de valores únicos é grande para todas, exceto para `patient_gender`. \n",
    "- Vamos lidar com essas colunas de algumas formas:\n",
    "\n",
    "- Em `diagnosis`, há valores únicos demais, o que dificulta o aprendizado de máquina. Entretanto, podemos analisar a coluna como `com` ou `sem` diagnóstico. Lembra que preenchemos todos os valores nulos dela com `no diagnosis`? Vamos codificar `no diagnosis` como `0`, e todas as outras, como `1`. Dessa forma, simplificamos tremendamente essa coluna!\n",
    "\n",
    "- Podemos descartar `prescribed_medicines`, pois ela é totalmente correlacionada a `diagnosis` - sempre que não há diagnóstico, nenhuma medicação é prescrita. Então não precisamos dessa informação duplicada.\n",
    "\n",
    "- E quanto a `doctor_name`? Não há valores únicos em excesso, mas, ainda assim, bastantes (19). Poderíamos descartá-la ou mantê-la, mas mantê-la tornaria nossa análise mais complicada. Devido ao comprimento desse lab, vamos descartá-la.\n",
    "\n",
    "- Quanto a `gender`, vamos codificar os valores como `0` e `1`, pois há somente dois valores únicos.\n",
    "\n",
    "Nas próximas células, faça o seguinte:\n",
    "\n",
    "1. Crie uma nova coluna chamada `diagnosis_int` que tenha `0` e `1`, baseada nos valores de `diagnosis`.\n",
    "\n",
    "1. Crie uma nova coluna chamada `patient_gender_int` que tenha `0` e `1`, baseada nos valores de `patient_gender`.\n",
    "\n",
    "1. Descarte as seguintes colunas: `doctor_name`, `diagnosis`, `prescribed_medicines`, `patient_gender`, `patient_dob` e `appointment_date` (não vamos usar as colunas de data também)."
   ]
  },
  {
   "cell_type": "code",
   "execution_count": null,
   "metadata": {},
   "outputs": [],
   "source": [
    "# Seu código aqui"
   ]
  },
  {
   "cell_type": "markdown",
   "metadata": {
    "id": "5qa_0JTKTI-h"
   },
   "source": [
    "- Vamos olhar as primeiras linhas do dataset para checar se as codificações e descartes foram feitos."
   ]
  },
  {
   "cell_type": "code",
   "execution_count": null,
   "metadata": {},
   "outputs": [],
   "source": [
    "# Seu código aqui"
   ]
  },
  {
   "cell_type": "markdown",
   "metadata": {
    "id": "mg2j8tCMfaYk"
   },
   "source": [
    "### Padronização\n",
    "- Agora, vamos padronizar os dados, usando `StandardScaler`.\n",
    "- Salve o resultado em `patients_stand`."
   ]
  },
  {
   "cell_type": "code",
   "execution_count": null,
   "metadata": {},
   "outputs": [],
   "source": [
    "# Seu código aqui"
   ]
  },
  {
   "cell_type": "markdown",
   "metadata": {
    "id": "t5HqjQeOTI-k"
   },
   "source": [
    "### Aglomeração\n",
    "- Nossos dados estão prontos para serem aglomerados. Vamos usar `Kmeans` de novo.\n",
    "- Use `n_clusters = 4`.\n",
    "- Começaremos instanciando e ajustando o modelo na célula abaixo.\n",
    "- Chame esse modelo de `patients_cluster`."
   ]
  },
  {
   "cell_type": "code",
   "execution_count": null,
   "metadata": {},
   "outputs": [],
   "source": [
    "# Seu código aqui"
   ]
  },
  {
   "cell_type": "markdown",
   "metadata": {
    "id": "5RA6VM05TI-n"
   },
   "source": [
    "- Incorpore os rótulos ao dataframe.\n",
    "- Faça isso acessando os `labels_` de `patients_cluster` e designando-os a uma nova coluna em `patients` chamada `labels`.\n",
    "- Agrupe o dataset por aglomerados e analise as diferenças entre eles."
   ]
  },
  {
   "cell_type": "code",
   "execution_count": null,
   "metadata": {},
   "outputs": [],
   "source": [
    "# Seu código aqui"
   ]
  },
  {
   "cell_type": "markdown",
   "metadata": {
    "id": "QBDc3YzzTI-t"
   },
   "source": [
    "## Bônus\n",
    "### Visualizando os aglomerados K-Means\n",
    "\n",
    "- Como k-means aglomera os dados? Você pode ter uma noção melhor através de um scatterplot.\n",
    "- Gere um plot bidimensional dos aglomerado, usando `matplotlib`. \n",
    "- Você precisará aplicar um PCA antes para conseguir efetivamente visualizar os resultados.\n",
    "- Use a coluna `labels` para colorir seu gráfico."
   ]
  },
  {
   "cell_type": "markdown",
   "metadata": {},
   "source": [
    "### PCA - 2 dimensões\n",
    "- Aplique o PCA com 2 componentes em `patients_stand`.\n",
    "```python\n",
    "from sklearn.decomposition import PCA\n",
    "```"
   ]
  },
  {
   "cell_type": "code",
   "execution_count": null,
   "metadata": {},
   "outputs": [],
   "source": [
    "# Seu código aqui"
   ]
  },
  {
   "cell_type": "markdown",
   "metadata": {},
   "source": [
    "### Plote o PCA\n",
    "- Use scatterplot para visualizar seus dados.\n",
    "- Use os componentes 1 e 2 do PCA como eixos."
   ]
  },
  {
   "cell_type": "code",
   "execution_count": null,
   "metadata": {},
   "outputs": [],
   "source": [
    "# Seu código aqui"
   ]
  },
  {
   "cell_type": "markdown",
   "metadata": {},
   "source": [
    "### PCA - 3 dimensões\n",
    "- Aplique o PCA com 3 componentes em `patients_stand` e armazene suas componentes em `pc1`, `pc2` e `pc3`."
   ]
  },
  {
   "cell_type": "code",
   "execution_count": null,
   "metadata": {},
   "outputs": [],
   "source": [
    "# Seu código aqui"
   ]
  },
  {
   "cell_type": "markdown",
   "metadata": {},
   "source": [
    "### Plote o PCA 3D\n",
    "- Você também pode visualizar os aglomerados num scatterplot tridimensional.\n",
    "- Use o código abaixo:\n",
    "```python\n",
    "import plotly.express as px\n",
    "px.scatter_3d(x = pc1, y = pc2, z = pc3, color = patients_stand['labels'])\n",
    "```"
   ]
  },
  {
   "cell_type": "code",
   "execution_count": null,
   "metadata": {},
   "outputs": [],
   "source": [
    "# Seu código aqui"
   ]
  }
 ],
 "metadata": {
  "colab": {
   "collapsed_sections": [
    "V5y13j_ZTI93",
    "9lz45tQqTI96",
    "WteTjmjmTI9-",
    "565Vzt2bTI-A",
    "O3UW3Mc6TI-D",
    "e-JJHcpQTI-M",
    "SRXDUtWWTI-Z",
    "GIL76StZTI-d",
    "Zi3AnuAdTI-f",
    "t5HqjQeOTI-k"
   ],
   "name": "main.ipynb",
   "provenance": []
  },
  "kernelspec": {
   "display_name": "Python 3.9.7 ('base')",
   "language": "python",
   "name": "python3"
  },
  "language_info": {
   "codemirror_mode": {
    "name": "ipython",
    "version": 3
   },
   "file_extension": ".py",
   "mimetype": "text/x-python",
   "name": "python",
   "nbconvert_exporter": "python",
   "pygments_lexer": "ipython3",
   "version": "3.9.7"
  },
  "toc": {
   "base_numbering": 1,
   "nav_menu": {},
   "number_sections": true,
   "sideBar": true,
   "skip_h1_title": false,
   "title_cell": "Table of Contents",
   "title_sidebar": "Contents",
   "toc_cell": false,
   "toc_position": {},
   "toc_section_display": true,
   "toc_window_display": false
  },
  "varInspector": {
   "cols": {
    "lenName": 16,
    "lenType": 16,
    "lenVar": 40
   },
   "kernels_config": {
    "python": {
     "delete_cmd_postfix": "",
     "delete_cmd_prefix": "del ",
     "library": "var_list.py",
     "varRefreshCmd": "print(var_dic_list())"
    },
    "r": {
     "delete_cmd_postfix": ") ",
     "delete_cmd_prefix": "rm(",
     "library": "var_list.r",
     "varRefreshCmd": "cat(var_dic_list()) "
    }
   },
   "types_to_exclude": [
    "module",
    "function",
    "builtin_function_or_method",
    "instance",
    "_Feature"
   ],
   "window_display": false
  },
  "vscode": {
   "interpreter": {
    "hash": "7869b160c3910301faef0a277a4870fbba5b5242c72c77312845f42f06961f70"
   }
  }
 },
 "nbformat": 4,
 "nbformat_minor": 1
}

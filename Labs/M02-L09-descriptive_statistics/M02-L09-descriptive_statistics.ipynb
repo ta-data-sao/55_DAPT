{
 "cells": [
  {
   "cell_type": "markdown",
   "metadata": {},
   "source": [
    "# LAB | Estatística descritiva"
   ]
  },
  {
   "cell_type": "markdown",
   "metadata": {
    "colab_type": "text",
    "id": "iOwi3pSAMZOb"
   },
   "source": [
    "### Importar bibliotecas:"
   ]
  },
  {
   "cell_type": "code",
   "execution_count": null,
   "metadata": {},
   "outputs": [],
   "source": [
    "import pandas as pd\n",
    "import matplotlib.pyplot as plt\n",
    "import seaborn as sns\n",
    "import random"
   ]
  },
  {
   "cell_type": "markdown",
   "metadata": {},
   "source": [
    "## Rolem os dados!!!"
   ]
  },
  {
   "cell_type": "markdown",
   "metadata": {},
   "source": [
    "- Sabemos que a probabilidade de cada número é a mesma (1/6), então a frequência de cada número deveria ser similar, e deveríamos esperar ver um histograma uniforme. Podemos observar isso ao aumentar o número de lançamentos.\n",
    "- Rode a função abaixo, que simula o lançamento de um dado - você fornece o número de lançamentos e ele retorna um dataframe com os resultados.\n",
    "\n",
    "```python\n",
    "def rola_dado(n):\n",
    "    resultados = random.choices(range(1,7), k=n)\n",
    "    df = pd.DataFrame(resultados, columns=['values'])\n",
    "    return df\n",
    "```"
   ]
  },
  {
   "cell_type": "code",
   "execution_count": null,
   "metadata": {},
   "outputs": [],
   "source": [
    "# Seu código aqui"
   ]
  },
  {
   "cell_type": "markdown",
   "metadata": {},
   "source": [
    "## Role 10 vezes\n",
    "- Rode a função `rola_dado()` usando `10` como argumento.\n",
    "- Armazene o resultado numa variável chamada `df_10`.\n",
    "- Use `.describe()` para visualizar as estatísticas descritivas."
   ]
  },
  {
   "cell_type": "code",
   "execution_count": null,
   "metadata": {},
   "outputs": [],
   "source": [
    "# Seu código aqui"
   ]
  },
  {
   "cell_type": "markdown",
   "metadata": {},
   "source": [
    "### Frequência da distribuição\n",
    "- Usando os resultados da função `rola_dado(10)`, plote a `frequência da distribuição`.\n",
    "- Você pode usar `sns.countplot()`.\n",
    "- Calcule a mediana e a média do dataframe."
   ]
  },
  {
   "cell_type": "code",
   "execution_count": null,
   "metadata": {},
   "outputs": [],
   "source": [
    "# Seu código aqui"
   ]
  },
  {
   "cell_type": "markdown",
   "metadata": {},
   "source": [
    "### Valores ordenados\n",
    "- Usando os resultados da função `rola_dado(10)`, plote os `lançamentos e valores`, ordenados pelos valores.\n",
    "- Ordene o dataframe pela coluna `valores` e armazene numa variável chamada `df_sorted_10`.\n",
    "- Você pode usar `sns.barplot(df_sorted_10.index, df_sorted_10['values'],order=df_sorted_10.index)`."
   ]
  },
  {
   "cell_type": "code",
   "execution_count": null,
   "metadata": {},
   "outputs": [],
   "source": [
    "# Seu código aqui"
   ]
  },
  {
   "cell_type": "markdown",
   "metadata": {},
   "source": [
    "## Role 1000 vezes\n",
    "- Rode a função `rola_dado()` usando `1000` como argumento.\n",
    "- Armazene o resultado numa variável chamada `df_1000`.\n",
    "- Use `.describe()` para visualizar as estatísticas descritivas."
   ]
  },
  {
   "cell_type": "code",
   "execution_count": null,
   "metadata": {},
   "outputs": [],
   "source": [
    "# Seu código aqui"
   ]
  },
  {
   "cell_type": "markdown",
   "metadata": {},
   "source": [
    "### Frequência da distribuição\n",
    "- Usando os resultados da função `rola_dado(1000)`, plote a `frequência da distribuição`.\n",
    "- Você pode usar `sns.countplot()`.\n",
    "- Calcule a mediana e a média do dataframe."
   ]
  },
  {
   "cell_type": "code",
   "execution_count": null,
   "metadata": {},
   "outputs": [],
   "source": [
    "# Seu código aqui"
   ]
  },
  {
   "cell_type": "markdown",
   "metadata": {},
   "source": [
    "### Valores ordenados\n",
    "- Usando os resultados da função `rola_dado(1000)`, plote os `lançamentos e valores`, ordenados pelos valores.\n",
    "- Ordene o dataframe pela coluna `valores` e armazene numa variável chamada `df_sorted_1000`.\n",
    "- Você pode usar `sns.barplot(df_sorted_1000.index, df_sorted_1000['values'],order=df_sorted_1000.index)`."
   ]
  },
  {
   "cell_type": "code",
   "execution_count": null,
   "metadata": {},
   "outputs": [],
   "source": [
    "# Seu código aqui"
   ]
  },
  {
   "cell_type": "markdown",
   "metadata": {},
   "source": [
    "_________________________________________________"
   ]
  },
  {
   "cell_type": "markdown",
   "metadata": {},
   "source": [
    "## Distribuição de idades\n",
    "- Agora, vamos trabalhar com o dataset `age_pop.csv`. \n",
    "- Ele contém as idades de moradores de 3 bairros.\n",
    "- Leia o csv e armazene numa variável."
   ]
  },
  {
   "cell_type": "code",
   "execution_count": null,
   "metadata": {},
   "outputs": [],
   "source": [
    "# Seu código aqui"
   ]
  },
  {
   "cell_type": "markdown",
   "metadata": {},
   "source": [
    "- Separe um dataframe para cada região."
   ]
  },
  {
   "cell_type": "code",
   "execution_count": null,
   "metadata": {},
   "outputs": [],
   "source": [
    "# Seu código aqui"
   ]
  },
  {
   "cell_type": "markdown",
   "metadata": {},
   "source": [
    "### Região 1\n",
    "- Usando somente os dados da região 1, calcule a média, a mediana e o desvio padrão das idades.\n",
    "- Plote a frequência da distribuição - você pode usar `plt.hist()`.\n",
    "- Tente mostrar no seu plot a média, a mediana e o desvio padrão - você pode usar `plt.axvline()`."
   ]
  },
  {
   "cell_type": "code",
   "execution_count": null,
   "metadata": {},
   "outputs": [],
   "source": [
    "# Seu código aqui"
   ]
  },
  {
   "cell_type": "markdown",
   "metadata": {},
   "source": [
    "### Região 2\n",
    "- Usando somente os dados da região 2, calcule a média, a mediana e o desvio padrão das idades.\n",
    "- Plote a frequência da distribuição - você pode usar `plt.hist()`.\n",
    "- Tente mostrar no seu plot a média, a mediana e o desvio padrão - você pode usar `plt.axvline()`."
   ]
  },
  {
   "cell_type": "code",
   "execution_count": null,
   "metadata": {},
   "outputs": [],
   "source": [
    "# Seu código aqui"
   ]
  },
  {
   "cell_type": "markdown",
   "metadata": {},
   "source": [
    "### Região 3\n",
    "- Usando somente os dados da região 3, calcule a média, a mediana e o desvio padrão das idades.\n",
    "- Plote a frequência da distribuição - você pode usar `plt.hist()`.\n",
    "- Tente mostrar no seu plot a média, a mediana e o desvio padrão - você pode usar `plt.axvline()`."
   ]
  },
  {
   "cell_type": "code",
   "execution_count": null,
   "metadata": {},
   "outputs": [],
   "source": [
    "# Seu código aqui"
   ]
  },
  {
   "cell_type": "markdown",
   "metadata": {},
   "source": [
    "### Quartis\n",
    "- Calcule o primeiro, o segundo e o terceiro quartis das idades da região 3. Explique os resultados que obteve."
   ]
  },
  {
   "cell_type": "code",
   "execution_count": null,
   "metadata": {},
   "outputs": [],
   "source": [
    "# Seu código aqui"
   ]
  }
 ],
 "metadata": {
  "colab": {
   "collapsed_sections": [
    "ZHu8EsuWMZPY",
    "mvqVBzqzMZPa",
    "89a44p2xMZPc"
   ],
   "name": "main.ipynb",
   "provenance": []
  },
  "kernelspec": {
   "display_name": "Python 3.9.7 ('base')",
   "language": "python",
   "name": "python3"
  },
  "language_info": {
   "codemirror_mode": {
    "name": "ipython",
    "version": 3
   },
   "file_extension": ".py",
   "mimetype": "text/x-python",
   "name": "python",
   "nbconvert_exporter": "python",
   "pygments_lexer": "ipython3",
   "version": "3.9.7"
  },
  "toc": {
   "base_numbering": 1,
   "nav_menu": {},
   "number_sections": true,
   "sideBar": true,
   "skip_h1_title": false,
   "title_cell": "Table of Contents",
   "title_sidebar": "Contents",
   "toc_cell": false,
   "toc_position": {},
   "toc_section_display": true,
   "toc_window_display": false
  },
  "varInspector": {
   "cols": {
    "lenName": 16,
    "lenType": 16,
    "lenVar": 40
   },
   "kernels_config": {
    "python": {
     "delete_cmd_postfix": "",
     "delete_cmd_prefix": "del ",
     "library": "var_list.py",
     "varRefreshCmd": "print(var_dic_list())"
    },
    "r": {
     "delete_cmd_postfix": ") ",
     "delete_cmd_prefix": "rm(",
     "library": "var_list.r",
     "varRefreshCmd": "cat(var_dic_list()) "
    }
   },
   "types_to_exclude": [
    "module",
    "function",
    "builtin_function_or_method",
    "instance",
    "_Feature"
   ],
   "window_display": false
  },
  "vscode": {
   "interpreter": {
    "hash": "7869b160c3910301faef0a277a4870fbba5b5242c72c77312845f42f06961f70"
   }
  }
 },
 "nbformat": 4,
 "nbformat_minor": 1
}

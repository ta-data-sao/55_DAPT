{
 "cells": [
  {
   "cell_type": "markdown",
   "metadata": {},
   "source": [
    "# LAB | Avaliação de Aprendizado Não-Supervisionado\n",
    "- Este lab foi pensado pra te ajudar a praticar e consolidar suas habilidades de analisar os resultados de modelos não-supervisionados."
   ]
  },
  {
   "cell_type": "markdown",
   "metadata": {},
   "source": [
    "## Importe as bibliotecas aqui"
   ]
  },
  {
   "cell_type": "code",
   "execution_count": null,
   "metadata": {},
   "outputs": [],
   "source": [
    "# Seu código aqui"
   ]
  },
  {
   "cell_type": "markdown",
   "metadata": {},
   "source": [
    "# Dataset de vinhos"
   ]
  },
  {
   "cell_type": "markdown",
   "metadata": {},
   "source": [
    "## Importe o dataset\n",
    "- Rode o código abaixo para importar o dataset e separar X e y:\n",
    "```python\n",
    "from sklearn import datasets\n",
    "wine = datasets.load_wine()\n",
    "X = pd.DataFrame(wine[\"data\"], columns=wine[\"feature_names\"])\n",
    "y = pd.Series(wine[\"target\"])\n",
    "```"
   ]
  },
  {
   "cell_type": "code",
   "execution_count": null,
   "metadata": {},
   "outputs": [],
   "source": [
    "# Seu código aqui"
   ]
  },
  {
   "cell_type": "markdown",
   "metadata": {},
   "source": [
    "## Treine um modelo de aglomeração KMeans com 8 aglomerados\n",
    "- Use a variável X do dataset de vinhos\n",
    "- Padronize as características\n",
    "- Use 8 aglomerados, especifique `n_clusters=8` no instanciamento do modelo\n",
    "```python\n",
    "from sklearn.preprocessing import StandardScaler\n",
    "from sklearn.cluster import KMeans\n",
    "```"
   ]
  },
  {
   "cell_type": "code",
   "execution_count": null,
   "metadata": {},
   "outputs": [],
   "source": [
    "# Seu código aqui"
   ]
  },
  {
   "cell_type": "markdown",
   "metadata": {},
   "source": [
    "### Silhueta com 8 aglomerados\n",
    "- Mostre a silhueta do modelo\n",
    "- Calcule a pontuação da silhueta para o modelo\n",
    "```python\n",
    "from sklearn.metrics import silhouette_score\n",
    "from yellowbrick.cluster import SilhouetteVisualizer\n",
    "```"
   ]
  },
  {
   "cell_type": "code",
   "execution_count": null,
   "metadata": {},
   "outputs": [],
   "source": [
    "# Seu código aqui"
   ]
  },
  {
   "cell_type": "markdown",
   "metadata": {},
   "source": [
    "## Treine um modelo de aglomeração KMeans com 5 aglomerados\n",
    "- Use a variável X do dataset de vinhos\n",
    "- Padronize as características\n",
    "- Use 5 aglomerados, especifique `n_clusters=5` no instanciamento do modelo"
   ]
  },
  {
   "cell_type": "code",
   "execution_count": null,
   "metadata": {},
   "outputs": [],
   "source": [
    "# Seu código aqui"
   ]
  },
  {
   "cell_type": "markdown",
   "metadata": {},
   "source": [
    "### Silhueta com 5 aglomerados\n",
    "- Mostre a silhueta do modelo\n",
    "- Calcule a pontuação da silhueta para o modelo"
   ]
  },
  {
   "cell_type": "code",
   "execution_count": null,
   "metadata": {},
   "outputs": [],
   "source": [
    "# Seu código aqui"
   ]
  },
  {
   "cell_type": "markdown",
   "metadata": {},
   "source": [
    "## Treine um modelo de aglomeração KMeans com 3 aglomerados\n",
    "- Use a variável X do dataset de vinhos\n",
    "- Padronize as características\n",
    "- Use 3 aglomerados, especifique `n_clusters=3` no instanciamento do modelo"
   ]
  },
  {
   "cell_type": "code",
   "execution_count": null,
   "metadata": {},
   "outputs": [],
   "source": [
    "# Seu código aqui"
   ]
  },
  {
   "cell_type": "markdown",
   "metadata": {},
   "source": [
    "### Silhueta com 3 aglomerados\n",
    "- Mostre a silhueta do modelo\n",
    "- Calcule a pontuação da silhueta para o modelo"
   ]
  },
  {
   "cell_type": "code",
   "execution_count": null,
   "metadata": {},
   "outputs": [],
   "source": [
    "# Seu código aqui"
   ]
  },
  {
   "cell_type": "markdown",
   "metadata": {},
   "source": [
    "## Cotovelo/joelho da curva\n",
    "- Use visualizações da curva-cotovelo/curva-joelho para ver se consegue determinar o melhor número de aglomerados para usarmos.\n",
    "- A biblioteca Yellowbrick tem 3 possíveis métricas para o argumento `metric`:\n",
    ">- **distortion**: média da soma dos quadrados das distâncias até os centros\n",
    ">- **silhouette**: média da proporção entre as distâncias intra-aglomerado e até o aglomerado mais próximo\n",
    ">- **calinski_harabasz**: proporção entre as dispersões intra e entre aglomerados\n",
    "```python\n",
    "from yellowbrick.cluster import KElbowVisualizer\n",
    "```"
   ]
  },
  {
   "cell_type": "code",
   "execution_count": null,
   "metadata": {},
   "outputs": [],
   "source": [
    "# Seu código aqui"
   ]
  },
  {
   "cell_type": "markdown",
   "metadata": {},
   "source": [
    "## Crie e plote uma matriz de dispersão\n",
    "- Crie e plote uma matriz de dispersão mostrando como os aglomerados estão agrupados por todas as diferentes combinações de variáveis nos dados.\n",
    "- Use o modelo e o número de aglomerados que retornaram o melhor resultado acima."
   ]
  },
  {
   "cell_type": "code",
   "execution_count": null,
   "metadata": {},
   "outputs": [],
   "source": [
    "import seaborn as sns"
   ]
  },
  {
   "cell_type": "markdown",
   "metadata": {},
   "source": [
    "## Faça uma transformação PCA\n",
    "- Plote os dois principais componentes, colorindo por aglomerado.\n",
    "```python\n",
    "from sklearn.decomposition import PCA\n",
    "```"
   ]
  },
  {
   "cell_type": "code",
   "execution_count": null,
   "metadata": {},
   "outputs": [],
   "source": [
    "# Seu código aqui"
   ]
  },
  {
   "cell_type": "markdown",
   "metadata": {},
   "source": [
    "[Aqui](https://towardsdatascience.com/silhouette-method-better-than-elbow-method-to-find-optimal-clusters-378d62ff6891) está um artigo sobre esses métodos de determinação do número de aglomerados."
   ]
  }
 ],
 "metadata": {
  "kernelspec": {
   "display_name": "Python 3.9.7 ('base')",
   "language": "python",
   "name": "python3"
  },
  "language_info": {
   "codemirror_mode": {
    "name": "ipython",
    "version": 3
   },
   "file_extension": ".py",
   "mimetype": "text/x-python",
   "name": "python",
   "nbconvert_exporter": "python",
   "pygments_lexer": "ipython3",
   "version": "3.9.7"
  },
  "vscode": {
   "interpreter": {
    "hash": "7869b160c3910301faef0a277a4870fbba5b5242c72c77312845f42f06961f70"
   }
  }
 },
 "nbformat": 4,
 "nbformat_minor": 4
}

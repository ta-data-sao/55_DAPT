{
 "cells": [
  {
   "cell_type": "markdown",
   "metadata": {},
   "source": [
    "# LAB | Exploração do Titanic"
   ]
  },
  {
   "cell_type": "markdown",
   "metadata": {},
   "source": [
    "## Importe as bibliotecas aqui"
   ]
  },
  {
   "cell_type": "code",
   "execution_count": null,
   "metadata": {},
   "outputs": [],
   "source": [
    "# Seu código aqui"
   ]
  },
  {
   "cell_type": "markdown",
   "metadata": {
    "colab_type": "text",
    "id": "8u68jfFs1b2X"
   },
   "source": [
    "## O Dataset do Titanic\n",
    "\n",
    "- Leia o arquivo `titanic.csv` e armazene-o na variável `titanic`.\n",
    "- Você pode achar mais informação sobre o dataset [aqui](https://www.kaggle.com/c/titanic/data)"
   ]
  },
  {
   "cell_type": "code",
   "execution_count": 3,
   "metadata": {},
   "outputs": [],
   "source": [
    "# Seu código aqui"
   ]
  },
  {
   "cell_type": "markdown",
   "metadata": {
    "colab_type": "text",
    "id": "G3EhkLyM1b2j"
   },
   "source": [
    "## Remova a coluna `Cabin`\n",
    "- O problema desta coluna é que há muitos valores ausentes. Veremos como lidar com isso depois."
   ]
  },
  {
   "cell_type": "code",
   "execution_count": 6,
   "metadata": {},
   "outputs": [],
   "source": [
    "# Seu código aqui"
   ]
  },
  {
   "cell_type": "markdown",
   "metadata": {
    "colab_type": "text",
    "id": "cwo_20Fx1b27"
   },
   "source": [
    "## Valores ausentes\n",
    "- Conte o número de valores nulos no dataset.\n",
    "- Agora descarte-os. Voltaremos para eles depois."
   ]
  },
  {
   "cell_type": "code",
   "execution_count": 8,
   "metadata": {},
   "outputs": [],
   "source": [
    "# Seu código aqui"
   ]
  },
  {
   "cell_type": "markdown",
   "metadata": {
    "colab_type": "text",
    "id": "YI21X4nA1b3U"
   },
   "source": [
    "- Confira o número de valores nulos novamente pra checar se a remoção foi executada corretamente."
   ]
  },
  {
   "cell_type": "code",
   "execution_count": 13,
   "metadata": {},
   "outputs": [],
   "source": [
    "# Seu código aqui"
   ]
  },
  {
   "cell_type": "markdown",
   "metadata": {
    "colab_type": "text",
    "id": "eVYrdJO11b3g"
   },
   "source": [
    "## Olhe algumas estatísticas do dataset\n",
    "- Use `.describe()` no dataset resultante para observar alguns padrões das colunas numéricas."
   ]
  },
  {
   "cell_type": "code",
   "execution_count": 16,
   "metadata": {},
   "outputs": [],
   "source": [
    "# Seu código aqui"
   ]
  },
  {
   "cell_type": "markdown",
   "metadata": {
    "colab_type": "text",
    "id": "Q-vv9rxW1b3o"
   },
   "source": [
    "- O que você pode concluir a partir daí? Cheque, por exemplo, a média de sobreviventes, as idades mínima e máxima."
   ]
  },
  {
   "cell_type": "code",
   "execution_count": 18,
   "metadata": {},
   "outputs": [],
   "source": [
    "# Seu código aqui"
   ]
  },
  {
   "cell_type": "markdown",
   "metadata": {
    "colab_type": "text",
    "id": "oOWuh4WU1b3v"
   },
   "source": [
    "## Visualizando relacionamentos\n",
    "- Tente fazer um scatterplot com as colunas `Age` e `Survived` pra ver se alguma informação sobressai."
   ]
  },
  {
   "cell_type": "code",
   "execution_count": 20,
   "metadata": {
    "colab_type": "text",
    "id": "0QJFPxfu1b33"
   },
   "outputs": [],
   "source": [
    "# Seu código aqui"
   ]
  },
  {
   "cell_type": "markdown",
   "metadata": {
    "colab_type": "text",
    "id": "YEtabpLP1b4I"
   },
   "source": [
    "- Agora, faça o mesmo com as colunas `Fare` e `Survived`."
   ]
  },
  {
   "cell_type": "code",
   "execution_count": 22,
   "metadata": {},
   "outputs": [],
   "source": [
    "# Seu código aqui"
   ]
  },
  {
   "cell_type": "markdown",
   "metadata": {},
   "source": [
    "## Lidando com variáveis categóricas\n",
    "- Há alguma técnica de visualização mais apropriada para lidar com variáveis categóricas? Tente outras formas de entender o efeito da idade na sobrevivência."
   ]
  },
  {
   "cell_type": "code",
   "execution_count": 24,
   "metadata": {},
   "outputs": [],
   "source": [
    "# Seu código aqui"
   ]
  },
  {
   "cell_type": "markdown",
   "metadata": {
    "colab_type": "text",
    "id": "bcdRBpG71b4U"
   },
   "source": [
    "## Tabela Cruzada\n",
    "- Às vezes, as plotagens acima podem revelar informações interessantes. Entretanto, uma forma melhor de obter essas informações é usando a função `pd.crosstab()`. \n",
    "- Use-a para explorar as relações entre `Age` e `Survived`."
   ]
  },
  {
   "cell_type": "code",
   "execution_count": 26,
   "metadata": {},
   "outputs": [],
   "source": [
    "# Seu código aqui"
   ]
  },
  {
   "cell_type": "markdown",
   "metadata": {
    "colab_type": "text",
    "id": "Ton92qVC1b4o"
   },
   "source": [
    "- Agora, faça a mesma operação com `Pclass` e `Survived`."
   ]
  },
  {
   "cell_type": "code",
   "execution_count": 28,
   "metadata": {},
   "outputs": [],
   "source": [
    "# Seu código aqui"
   ]
  },
  {
   "cell_type": "markdown",
   "metadata": {
    "colab_type": "text",
    "id": "ifn_DNGX1b46"
   },
   "source": [
    "## Correlações\n",
    "- Use o método `.corr()` no seu dataframe para entender as correlações entre as variáveis."
   ]
  },
  {
   "cell_type": "code",
   "execution_count": 30,
   "metadata": {},
   "outputs": [],
   "source": [
    "# Seu código aqui"
   ]
  },
  {
   "cell_type": "markdown",
   "metadata": {},
   "source": [
    "- Plote um mapa de calor com os valores das correlações."
   ]
  },
  {
   "cell_type": "code",
   "execution_count": 32,
   "metadata": {},
   "outputs": [],
   "source": [
    "# Seu código aqui"
   ]
  },
  {
   "cell_type": "markdown",
   "metadata": {
    "colab_type": "text",
    "id": "vhBW4Z8s1b5G"
   },
   "source": [
    "- Você acha que idade é linearmente relacionada a sobrevivência?\n",
    "- Você acha que essa variável será importante em nossos modelos?"
   ]
  },
  {
   "cell_type": "code",
   "execution_count": 34,
   "metadata": {},
   "outputs": [],
   "source": [
    "# Seu código aqui"
   ]
  },
  {
   "cell_type": "markdown",
   "metadata": {},
   "source": [
    "## Plotagens\n",
    "- Na mesma plotagem, mostre a distribuição da variável idade para cada categoria da variável sobrevivência."
   ]
  },
  {
   "cell_type": "code",
   "execution_count": 36,
   "metadata": {
    "colab_type": "text",
    "id": "Yvmc2WfW1b5N"
   },
   "outputs": [],
   "source": [
    "# Seu código aqui"
   ]
  },
  {
   "cell_type": "markdown",
   "metadata": {
    "colab_type": "text",
    "id": "VwA7WIo21b5T"
   },
   "source": [
    "- Plote a distribuição de idade, mas separe-a em dois grupos:\n",
    "> - Homens com menos de 18 anos que sobreviveram\n",
    "> - Homens com menos de 18 anos que não sobreviveram"
   ]
  },
  {
   "cell_type": "code",
   "execution_count": null,
   "metadata": {},
   "outputs": [],
   "source": [
    "# Seu código aqui"
   ]
  },
  {
   "cell_type": "markdown",
   "metadata": {
    "colab_type": "text",
    "id": "23jEdbpj1b5k"
   },
   "source": [
    "- Que conclusão você pode tirar da variável idade?\n",
    "- Ela é importante?\n",
    "- Como isso se relaciona com o coeficiente de correlação linear de idade?"
   ]
  },
  {
   "cell_type": "code",
   "execution_count": 39,
   "metadata": {},
   "outputs": [],
   "source": [
    "# Seu código aqui"
   ]
  },
  {
   "cell_type": "markdown",
   "metadata": {
    "colab_type": "text",
    "id": "7t3HMfcz1b5y"
   },
   "source": [
    "## Taxa de sobrevivência média\n",
    "- Você provavelmente observou uma divergência na taxa de sobrevivência por volta dos 8 anos de idade.\n",
    "- Para este exercício, precisamos calcular a média de sobrevivência para cada um desses subgrupos. Novamente, subdivida o dataset:\n",
    "\n",
    "> - Homens com até 8 anos\n",
    "> - Homens com mais de 8 e menos de 18 anos\n",
    "\n",
    "- Qual é a taxa média de sobrevivência deles?"
   ]
  },
  {
   "cell_type": "code",
   "execution_count": 41,
   "metadata": {},
   "outputs": [],
   "source": [
    "# Seu código aqui"
   ]
  },
  {
   "cell_type": "markdown",
   "metadata": {
    "colab_type": "text",
    "id": "5bY2kXrU1b6E"
   },
   "source": [
    "## Prepare os dados para nosso primeiro modelo"
   ]
  },
  {
   "cell_type": "markdown",
   "metadata": {
    "colab_type": "text",
    "id": "ysacJZC41b6F"
   },
   "source": [
    "### Vamos começar de forma simples.\n",
    "- Primeiro, crie um dataframe `X` contendo as colunas `['Pclass','Sex','Age','SibSp','Parch','Fare','Embarked']`."
   ]
  },
  {
   "cell_type": "code",
   "execution_count": 43,
   "metadata": {},
   "outputs": [],
   "source": [
    "# Seu código aqui"
   ]
  },
  {
   "cell_type": "markdown",
   "metadata": {
    "colab_type": "text",
    "id": "pRKA_PqH1b6O"
   },
   "source": [
    "- Crie também uma série `y` contendo a coluna `Survived`."
   ]
  },
  {
   "cell_type": "code",
   "execution_count": 45,
   "metadata": {},
   "outputs": [],
   "source": [
    "# Seu código aqui"
   ]
  },
  {
   "cell_type": "markdown",
   "metadata": {
    "colab_type": "text",
    "id": "y3PUjb3_1b6U"
   },
   "source": [
    "## _Dummifique_ seu dataset\n",
    "- Crie uma versão dummy de `X`. [Aqui](https://pandas.pydata.org/docs/reference/api/pandas.get_dummies.html) está a documentação do método a ser usado.\n",
    "- Como a _dummificação_ cria uma coluna para cada diferente categoria de cada coluna, reflita se é necessário manter todas. Caso conclua que não, especifique o argumento `drop_first=True` no método."
   ]
  },
  {
   "cell_type": "code",
   "execution_count": 47,
   "metadata": {},
   "outputs": [],
   "source": [
    "# Seu código aqui"
   ]
  },
  {
   "cell_type": "markdown",
   "metadata": {
    "colab_type": "text",
    "id": "e92Dzvm51b6a"
   },
   "source": [
    "## Prepare sua estratégia de validação\n",
    "- Usaremos a estratégia de validação `holdout`. Para essa estratégia, a ideia é esconder parte do dataframe para estimar o erro em dados ainda não vistos pelo modelo.\n",
    "- Então você poderá usar parte do dataset para treinar o modelo, e depois usar a parte ainda não vista para ter uma melhor estimativa do erro que obterá quando o modelo entrar em produção."
   ]
  },
  {
   "cell_type": "markdown",
   "metadata": {},
   "source": [
    "## Separe seu dataset"
   ]
  },
  {
   "cell_type": "markdown",
   "metadata": {
    "colab_type": "text",
    "id": "cnnEBBFb1b6a"
   },
   "source": [
    "- Separe seu dataframe `X` em dois: `X_train` e `X_test`. Faça o mesmo para a série `y`, criando `y_train` e `y_test`.\n",
    "- Para isso, use `train_test_split`:\n",
    "```python\n",
    "from sklearn.model_selection import train_test_split\n",
    "```"
   ]
  },
  {
   "cell_type": "code",
   "execution_count": 49,
   "metadata": {},
   "outputs": [],
   "source": [
    "# Seu código aqui"
   ]
  },
  {
   "cell_type": "markdown",
   "metadata": {},
   "source": [
    "## Concatene as partes respectivas\n",
    "- Concatene `X_train` e `y_train`. Faça o mesmo para `X_test` e `y_test`.\n",
    "- Atribua-os a dataframes chamados `titanic_train` e `titanic_test`."
   ]
  },
  {
   "cell_type": "code",
   "execution_count": 52,
   "metadata": {},
   "outputs": [],
   "source": [
    "# Seu código aqui"
   ]
  },
  {
   "cell_type": "markdown",
   "metadata": {
    "colab_type": "text",
    "id": "dmVN7plq1b64"
   },
   "source": [
    "## Armazene-os nos seus arquivos"
   ]
  },
  {
   "cell_type": "code",
   "execution_count": 54,
   "metadata": {},
   "outputs": [],
   "source": [
    "# Seu código aqui"
   ]
  }
 ],
 "metadata": {
  "colab": {
   "collapsed_sections": [
    "ysacJZC41b6F"
   ],
   "name": "titanic-exploration_as.ipynb",
   "provenance": []
  },
  "hide_input": false,
  "kernelspec": {
   "display_name": "Python 3.9.7 ('base')",
   "language": "python",
   "name": "python3"
  },
  "language_info": {
   "codemirror_mode": {
    "name": "ipython",
    "version": 3
   },
   "file_extension": ".py",
   "mimetype": "text/x-python",
   "name": "python",
   "nbconvert_exporter": "python",
   "pygments_lexer": "ipython3",
   "version": "3.9.7"
  },
  "toc": {
   "base_numbering": 1,
   "nav_menu": {},
   "number_sections": true,
   "sideBar": true,
   "skip_h1_title": false,
   "title_cell": "Table of Contents",
   "title_sidebar": "Contents",
   "toc_cell": false,
   "toc_position": {},
   "toc_section_display": true,
   "toc_window_display": false
  },
  "varInspector": {
   "cols": {
    "lenName": 16,
    "lenType": 16,
    "lenVar": 40
   },
   "kernels_config": {
    "python": {
     "delete_cmd_postfix": "",
     "delete_cmd_prefix": "del ",
     "library": "var_list.py",
     "varRefreshCmd": "print(var_dic_list())"
    },
    "r": {
     "delete_cmd_postfix": ") ",
     "delete_cmd_prefix": "rm(",
     "library": "var_list.r",
     "varRefreshCmd": "cat(var_dic_list()) "
    }
   },
   "types_to_exclude": [
    "module",
    "function",
    "builtin_function_or_method",
    "instance",
    "_Feature"
   ],
   "window_display": false
  },
  "vscode": {
   "interpreter": {
    "hash": "7869b160c3910301faef0a277a4870fbba5b5242c72c77312845f42f06961f70"
   }
  }
 },
 "nbformat": 4,
 "nbformat_minor": 1
}

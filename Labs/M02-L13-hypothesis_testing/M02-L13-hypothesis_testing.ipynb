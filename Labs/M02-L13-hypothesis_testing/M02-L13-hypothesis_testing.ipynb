{
 "cells": [
  {
   "cell_type": "markdown",
   "metadata": {},
   "source": [
    "# LAB | Teste de hipótese"
   ]
  },
  {
   "cell_type": "markdown",
   "metadata": {},
   "source": [
    "### Importe as bibliotecas aqui:"
   ]
  },
  {
   "cell_type": "code",
   "execution_count": 2,
   "metadata": {
    "ExecuteTime": {
     "end_time": "2021-03-19T00:53:29.206360Z",
     "start_time": "2021-03-19T00:53:28.917268Z"
    },
    "colab": {},
    "colab_type": "code",
    "id": "acGsudRIzRcI"
   },
   "outputs": [],
   "source": [
    "import pandas as pd\n",
    "import numpy as np"
   ]
  },
  {
   "cell_type": "markdown",
   "metadata": {
    "colab_type": "text",
    "id": "fMjz0xQkzRcL"
   },
   "source": [
    "# Desafio 1 - T-teste de amostra independente"
   ]
  },
  {
   "cell_type": "markdown",
   "metadata": {},
   "source": [
    "Usaremos o dataset dos pokemons.\n",
    "Neste desafio, nossa `hipótese nula` é que pokemons lendários e pokemons não-lendários têm médias de valores idênticas.\n",
    "Antes de aplicar métodos estatísticos, vamos examinar os dados.\n",
    "- Leia o dataset `pokemon.csv`."
   ]
  },
  {
   "cell_type": "code",
   "execution_count": null,
   "metadata": {},
   "outputs": [],
   "source": [
    "# Seu código aqui"
   ]
  },
  {
   "cell_type": "markdown",
   "metadata": {
    "colab_type": "text",
    "id": "vvADiMwSzRcO"
   },
   "source": [
    "- Vamos começar olhando as 5 primeiras linhas."
   ]
  },
  {
   "cell_type": "code",
   "execution_count": null,
   "metadata": {},
   "outputs": [],
   "source": [
    "# Seu código aqui"
   ]
  },
  {
   "cell_type": "markdown",
   "metadata": {
    "colab_type": "text",
    "id": "5J8MHzT0zRcQ"
   },
   "source": [
    "- Compare a contagem de pokemons lendários com a de pokemons não-lendários."
   ]
  },
  {
   "cell_type": "code",
   "execution_count": null,
   "metadata": {},
   "outputs": [],
   "source": [
    "# Seu código aqui"
   ]
  },
  {
   "cell_type": "markdown",
   "metadata": {
    "colab_type": "text",
    "id": "SsdvmwgQzRcT"
   },
   "source": [
    "- Calcule a média e o desvio padrão dos pontos totais (`Total`) para esses dois grupos."
   ]
  },
  {
   "cell_type": "code",
   "execution_count": null,
   "metadata": {},
   "outputs": [],
   "source": [
    "# Seu código aqui"
   ]
  },
  {
   "cell_type": "markdown",
   "metadata": {},
   "source": [
    "### T-teste de amostra independente\n",
    "O cálculo da média pode nos dar uma **pista** sobre como o teste estatístico vai resultar, mas certamente **não prova** que há uma diferença significativa entre os dois grupos.\n",
    "- Na célula abaixo, use `ttest_ind` para comparar os pontos totais dos pokemons lendários e dos pokemons não-lendários.\n",
    "\n",
    "A hipótese nula é que os grupos têm médias idênticas.\n",
    "\n",
    "Como não temos informações sobre a população, vamos assumir que as variâncias são diferentes.\n",
    "```python\n",
    "from scipy.stats import ttest_ind\n",
    "```"
   ]
  },
  {
   "cell_type": "code",
   "execution_count": null,
   "metadata": {},
   "outputs": [],
   "source": [
    "# Seu código aqui"
   ]
  },
  {
   "cell_type": "markdown",
   "metadata": {},
   "source": [
    "- O que você conclui a partir desse teste? Escreva suas conclusões abaixo.\n",
    "\n",
    "(Assuma um intervalo de confiança de 0.05)"
   ]
  },
  {
   "cell_type": "code",
   "execution_count": null,
   "metadata": {},
   "outputs": [],
   "source": [
    "# Seu código aqui"
   ]
  },
  {
   "cell_type": "markdown",
   "metadata": {},
   "source": [
    "### Diferentes tipos de pokemon\n",
    "E se tentarmos comparar os diferentes tipos de pokemon? \n",
    "- Na célula abaixo, liste os tipos (`Type 1`) de pokemon e faça a contagem de cada tipo."
   ]
  },
  {
   "cell_type": "code",
   "execution_count": null,
   "metadata": {},
   "outputs": [],
   "source": [
    "# Seu código aqui"
   ]
  },
  {
   "cell_type": "markdown",
   "metadata": {
    "colab_type": "text",
    "id": "trcIMzu7zRcd"
   },
   "source": [
    "- Como `água` é o tipo mais frequente, imprima a `média` e o `desvio padrão` dos pontos totais (`Total`) dos pokemons aquáticos e dos não-aquáticos."
   ]
  },
  {
   "cell_type": "code",
   "execution_count": null,
   "metadata": {},
   "outputs": [],
   "source": [
    "# Seu código aqui"
   ]
  },
  {
   "cell_type": "markdown",
   "metadata": {
    "colab_type": "text",
    "id": "5NHMwWofzRcg"
   },
   "source": [
    "- Faça um t-teste para comparar a média do total de pontos dos pokemons aquáticos e dos não-aquáticos.\n",
    "\n",
    "(Assuma que as variâncias são iguais)"
   ]
  },
  {
   "cell_type": "code",
   "execution_count": null,
   "metadata": {},
   "outputs": [],
   "source": [
    "# Seu código aqui"
   ]
  },
  {
   "cell_type": "markdown",
   "metadata": {
    "colab_type": "text",
    "id": "xCzeGzwdzRcj"
   },
   "source": [
    "- Podemos rejeitar a hipótese nula? Escreva suas conclusões abaixo."
   ]
  },
  {
   "cell_type": "code",
   "execution_count": null,
   "metadata": {},
   "outputs": [],
   "source": [
    "# Seu código aqui"
   ]
  },
  {
   "cell_type": "markdown",
   "metadata": {},
   "source": [
    "____________________________________"
   ]
  },
  {
   "cell_type": "markdown",
   "metadata": {},
   "source": [
    "# Desafio 2 - Teste de amostras dependentes"
   ]
  },
  {
   "cell_type": "markdown",
   "metadata": {
    "colab_type": "text",
    "id": "j8klRACazRcl"
   },
   "source": [
    "Neste desafio, vamos comparar amostras de dados dependentes que descrevem os pokemons. \n",
    "Nosso objetivo é ver se há diferença significativa entre pontos de defesa e de ataque nos pokemons.\n",
    "Nossa hipótese nula é que os pontos de defesa e de ataque são iguais. \n",
    "- Use `ttest_rel` para comparar `defense` e `attack` e veja se há uma diferença estatisticamente significativa entre eles.\n",
    "```python\n",
    "from scipy.stats import ttest_rel\n",
    "```"
   ]
  },
  {
   "cell_type": "code",
   "execution_count": null,
   "metadata": {},
   "outputs": [],
   "source": [
    "# Seu código aqui"
   ]
  },
  {
   "cell_type": "markdown",
   "metadata": {
    "colab_type": "text",
    "id": "hAVUpxGAzRcn"
   },
   "source": [
    "- Podemos rejeitar a hipótese nula? Escreva sua conclusão abaixo."
   ]
  },
  {
   "cell_type": "code",
   "execution_count": null,
   "metadata": {},
   "outputs": [],
   "source": [
    "# Seu código aqui"
   ]
  },
  {
   "cell_type": "markdown",
   "metadata": {
    "colab_type": "text",
    "id": "QYpL0utOzRcp"
   },
   "source": [
    "Também queremos saber se há uma diferença significativa entre as médias de `Sp. Def` e de `Sp. Atk`. \n",
    "- Faça o teste de hipótese na célula abaixo."
   ]
  },
  {
   "cell_type": "code",
   "execution_count": null,
   "metadata": {},
   "outputs": [],
   "source": [
    "# Seu código aqui"
   ]
  },
  {
   "cell_type": "markdown",
   "metadata": {},
   "source": [
    "- Podemos rejeitar a hipótese nula? Escreva sua conclusão abaixo."
   ]
  },
  {
   "cell_type": "code",
   "execution_count": null,
   "metadata": {},
   "outputs": [],
   "source": [
    "# Seu código aqui"
   ]
  },
  {
   "cell_type": "markdown",
   "metadata": {
    "colab_type": "text",
    "id": "thqX1OzRzRcv"
   },
   "source": [
    "Como você talvez se lembre, um teste de duas amostras dependentes também pode ser expresso como o teste de uma amostra - a diferença entre duas variáveis dependentes.\n",
    "- Importe `ttest_1samp` e faça o t-teste de uma amostra.\n",
    "- Use a diferença entre `defense` e `attack`. Teste a hipótese de que a diferença entre as médias é zero. Confira se os testes resultaram a mesma coisa.\n",
    "```python\n",
    "from scipy.stats import ttest_1samp\n",
    "```"
   ]
  },
  {
   "cell_type": "code",
   "execution_count": null,
   "metadata": {},
   "outputs": [],
   "source": [
    "# Seu código aqui"
   ]
  },
  {
   "cell_type": "markdown",
   "metadata": {},
   "source": [
    "# Desafio Bônus - O teste Qui-Quadrado"
   ]
  },
  {
   "cell_type": "markdown",
   "metadata": {
    "colab_type": "text",
    "id": "ZuoO67RWzRcw"
   },
   "source": [
    "O teste qui-quadrado é usado para determinar se há diferença estatisticamente significativa nas frequências. Em outras palavras, estamos testando se há relação entre variáveis categóricas ou se elas são independentes. Esse é um teste alternativo ao de Fisher, e é usado em cenários onde o tamanho das amostras é maior. Entretanto, com uma amostra grande o suficiente, ambos os testes produzem resultados similares. \n",
    "Leia mais sobre o teste qui-quadrado [aqui](https://en.wikipedia.org/wiki/Chi-squared_test).\n",
    "- Na célula abaixo, crie uma tabela de contingência usando `pd.crosstab`, e compare se um pokemon é lendário ou não e se seu tipo (`Type 1`) é água ou não.\n",
    "```python\n",
    "tabela_contingencia = pd.crosstab(pokemon['Legendary'], pokemon['Type 1'] == \"Water\")\n",
    "```"
   ]
  },
  {
   "cell_type": "code",
   "execution_count": null,
   "metadata": {},
   "outputs": [],
   "source": [
    "# Seu código aqui"
   ]
  },
  {
   "cell_type": "markdown",
   "metadata": {
    "colab_type": "text",
    "id": "uPwgRiKwzRcz"
   },
   "source": [
    "- Faça um teste qui-quadrado usando `chi2_contingency`.\n",
    "Você pode ler a documentação da função [aqui](https://docs.scipy.org/doc/scipy-0.15.1/reference/generated/scipy.stats.chi2_contingency.html).\n",
    "```python\n",
    "from scipy.stats import chi2_contingency\n",
    "```"
   ]
  },
  {
   "cell_type": "code",
   "execution_count": null,
   "metadata": {},
   "outputs": [],
   "source": [
    "# Seu código aqui"
   ]
  },
  {
   "cell_type": "markdown",
   "metadata": {
    "colab_type": "text",
    "id": "QMO8gqvkzRc1"
   },
   "source": [
    "- Com um intervalo de confiança de 95%, devemos rejeitar a hipótese nula?"
   ]
  },
  {
   "cell_type": "code",
   "execution_count": null,
   "metadata": {},
   "outputs": [],
   "source": [
    "# Seu código aqui"
   ]
  }
 ],
 "metadata": {
  "colab": {
   "name": "main.ipynb",
   "provenance": []
  },
  "kernelspec": {
   "display_name": "Python 3",
   "language": "python",
   "name": "python3"
  },
  "language_info": {
   "codemirror_mode": {
    "name": "ipython",
    "version": 3
   },
   "file_extension": ".py",
   "mimetype": "text/x-python",
   "name": "python",
   "nbconvert_exporter": "python",
   "pygments_lexer": "ipython3",
   "version": "3.8.3"
  },
  "toc": {
   "base_numbering": 1,
   "nav_menu": {},
   "number_sections": true,
   "sideBar": true,
   "skip_h1_title": false,
   "title_cell": "Table of Contents",
   "title_sidebar": "Contents",
   "toc_cell": false,
   "toc_position": {},
   "toc_section_display": true,
   "toc_window_display": false
  },
  "varInspector": {
   "cols": {
    "lenName": 16,
    "lenType": 16,
    "lenVar": 40
   },
   "kernels_config": {
    "python": {
     "delete_cmd_postfix": "",
     "delete_cmd_prefix": "del ",
     "library": "var_list.py",
     "varRefreshCmd": "print(var_dic_list())"
    },
    "r": {
     "delete_cmd_postfix": ") ",
     "delete_cmd_prefix": "rm(",
     "library": "var_list.r",
     "varRefreshCmd": "cat(var_dic_list()) "
    }
   },
   "types_to_exclude": [
    "module",
    "function",
    "builtin_function_or_method",
    "instance",
    "_Feature"
   ],
   "window_display": false
  }
 },
 "nbformat": 4,
 "nbformat_minor": 1
}

{
 "cells": [
  {
   "cell_type": "markdown",
   "metadata": {},
   "source": [
    "# LAB | Classificação do Titanic"
   ]
  },
  {
   "cell_type": "markdown",
   "metadata": {},
   "source": [
    "## Importe as bibliotecas aqui"
   ]
  },
  {
   "cell_type": "code",
   "execution_count": null,
   "metadata": {},
   "outputs": [],
   "source": [
    "# Seu código aqui"
   ]
  },
  {
   "cell_type": "markdown",
   "metadata": {},
   "source": [
    "# Carregue os dataframes\n",
    "- Leia os arquivos `titanic_train.csv` e `titanic_test.csv` do exercício passado. (Se você não completou o exercício, leia os arquivos que foram disponibilizados.)\n",
    "- Armazene-os nos dataframes `titanic_train` e `titanic_test`."
   ]
  },
  {
   "cell_type": "code",
   "execution_count": null,
   "metadata": {},
   "outputs": [],
   "source": [
    "# Seu código aqui"
   ]
  },
  {
   "cell_type": "markdown",
   "metadata": {
    "heading_collapsed": true
   },
   "source": [
    "## Treino e Teste\n",
    "- Havíamos separado o dataset original em treino e teste.\n",
    "- Fizemos isso para poder analisar as pontuações do modelo posteriormente."
   ]
  },
  {
   "cell_type": "markdown",
   "metadata": {},
   "source": [
    "___________________________________"
   ]
  },
  {
   "cell_type": "markdown",
   "metadata": {},
   "source": [
    "# Regressão Logística para Classificação\n",
    "- Para esse desafio, usaremos regressão logística para gerar um modelo preditivo para a variável categórica `Survived`, a partir de um conjunto de observações.\n",
    "- Use a biblioteca abaixo. Documentação [aqui](https://scikit-learn.org/stable/modules/generated/sklearn.linear_model.LogisticRegression.html).\n",
    "```python\n",
    "from sklearn.linear_model import LogisticRegression\n",
    "```"
   ]
  },
  {
   "cell_type": "code",
   "execution_count": null,
   "metadata": {},
   "outputs": [],
   "source": [
    "# Seu código aqui"
   ]
  },
  {
   "cell_type": "markdown",
   "metadata": {},
   "source": [
    "## Variáveis Preditivas\n",
    "- Tanto no dataset treino quanto no teste, selecione as colunas `Sex`e `Age` para criar as variáveis preditivas para seu problema. Armazene os dataframes selecionados nas variáveis `X_train` e `X_test`. (Talvez a coluna `Sex` esteja com o nome `Sex_male` ou `Sex_female`, devido à _dummificação_ que fizemos)."
   ]
  },
  {
   "cell_type": "code",
   "execution_count": null,
   "metadata": {},
   "outputs": [],
   "source": [
    "# Seu código aqui"
   ]
  },
  {
   "cell_type": "markdown",
   "metadata": {},
   "source": [
    "## Variável Resposta\n",
    "- Armazene também a coluna `Survived` de ambos os datasets nas séries `y_train` e `y_test`."
   ]
  },
  {
   "cell_type": "code",
   "execution_count": null,
   "metadata": {},
   "outputs": [],
   "source": [
    "# Seu código aqui"
   ]
  },
  {
   "cell_type": "markdown",
   "metadata": {},
   "source": [
    "## Ajuste do modelo\n",
    "- Use `X_train` e `y_train` para treinar seu modelo de regressão logística."
   ]
  },
  {
   "cell_type": "code",
   "execution_count": null,
   "metadata": {},
   "outputs": [],
   "source": [
    "# Seu código aqui"
   ]
  },
  {
   "cell_type": "markdown",
   "metadata": {},
   "source": [
    "## Previsão\n",
    "- Use seu modelo de regressão logística para gerar previsões para `X_test`.\n",
    "- Armazene as previsões na série `y_pred_logreg`.\n",
    "- Tente entender o que exatamente o método `.predict()` está fazendo."
   ]
  },
  {
   "cell_type": "code",
   "execution_count": null,
   "metadata": {},
   "outputs": [],
   "source": [
    "# Seu código aqui"
   ]
  },
  {
   "cell_type": "markdown",
   "metadata": {},
   "source": [
    "## Avaliando os resultados\n",
    "- Use o método `.score()` do seu modelo para avaliar os resultados obtidos no seu dataset de teste. Ou use `accuracy_score()`, mas atenção às diferenças dos argumentos.\n",
    "```python\n",
    "from sklearn.metrics import accuracy_score\n",
    "```"
   ]
  },
  {
   "cell_type": "code",
   "execution_count": null,
   "metadata": {},
   "outputs": [],
   "source": [
    "# Seu código aqui"
   ]
  },
  {
   "cell_type": "markdown",
   "metadata": {},
   "source": [
    "## Para refletir\n",
    "- O que o método `.score()` calcula?\n",
    "- Essa métrica é apropriada neste caso? Por quê?"
   ]
  },
  {
   "cell_type": "code",
   "execution_count": null,
   "metadata": {},
   "outputs": [],
   "source": [
    "# Seu código aqui"
   ]
  },
  {
   "cell_type": "markdown",
   "metadata": {},
   "source": [
    "## Matriz de Confusão\n",
    "- Imprima a matriz de confusão para os resultados obtidos.\n",
    "- Dica: você pode usar `pd.crosstab()` ou `sklearn.metrics.confusion_matrix`."
   ]
  },
  {
   "cell_type": "code",
   "execution_count": null,
   "metadata": {},
   "outputs": [],
   "source": [
    "# Seu código aqui"
   ]
  },
  {
   "cell_type": "markdown",
   "metadata": {},
   "source": [
    "## Precisão e Revogação\n",
    "- Calcule a precisão e a revogação para o dataset de teste.\n",
    "- Dica: use os métodos da sklearn.metrics:\n",
    "> - [Precisão](https://scikit-learn.org/stable/modules/generated/sklearn.metrics.precision_score.html)\n",
    "> - [Revogação](https://scikit-learn.org/stable/modules/generated/sklearn.metrics.recall_score.html)\n",
    "```python\n",
    "from sklearn.metrics import recall_score, precision_score\n",
    "```"
   ]
  },
  {
   "cell_type": "code",
   "execution_count": null,
   "metadata": {},
   "outputs": [],
   "source": [
    "# Seu código aqui"
   ]
  },
  {
   "cell_type": "markdown",
   "metadata": {},
   "source": [
    "## Questões\n",
    "- O que significam as métricas de precisão e revogação? Tente explicar com suas próprias palavras.\n",
    "- Essas são a precisão e a revogação para qual limiar? Tente explicar o que significa um limiar com suas próprias palavras."
   ]
  },
  {
   "cell_type": "code",
   "execution_count": null,
   "metadata": {},
   "outputs": [],
   "source": [
    "# Seu código aqui"
   ]
  },
  {
   "cell_type": "markdown",
   "metadata": {},
   "source": [
    "## Comparando as pontuações\n",
    "- Compare as pontuações de acurácia, precisão e revogação dos datasets de teste e de treino.\n",
    "- Você já as calculou para o dataset de teste. Agora, calcule-as para o dataset de treino e compare os resultados."
   ]
  },
  {
   "cell_type": "code",
   "execution_count": null,
   "metadata": {},
   "outputs": [],
   "source": [
    "# Seu código aqui"
   ]
  },
  {
   "cell_type": "markdown",
   "metadata": {},
   "source": [
    "- O que você observa? Você acha que o modelo sobreajustou?"
   ]
  },
  {
   "cell_type": "code",
   "execution_count": null,
   "metadata": {},
   "outputs": [],
   "source": [
    "# Seu código aqui"
   ]
  },
  {
   "cell_type": "markdown",
   "metadata": {},
   "source": [
    "_________________________________________________________"
   ]
  },
  {
   "cell_type": "markdown",
   "metadata": {},
   "source": [
    "# Modelos Não-Lineares - Árvore de Decisão"
   ]
  },
  {
   "cell_type": "markdown",
   "metadata": {},
   "source": [
    "- Para esse desafio, usaremos árvore de decisão para gerar um modelo preditivo para a variável categórica `Survived`, a partir de um conjunto de observações.\n",
    "- Neste modelo, usaremos novamente as variáveis `X_train`, `y_train`, `X_test` e `y_test`, já separadas.\n",
    "- Use a biblioteca abaixo. Documentação [aqui](https://scikit-learn.org/stable/modules/generated/sklearn.tree.DecisionTreeClassifier.html)\n",
    "```python\n",
    "from sklearn.tree import DecisionTreeClassifier\n",
    "```"
   ]
  },
  {
   "cell_type": "code",
   "execution_count": null,
   "metadata": {},
   "outputs": [],
   "source": [
    "# Seu código aqui"
   ]
  },
  {
   "cell_type": "markdown",
   "metadata": {},
   "source": [
    "## Ajuste do Modelo\n",
    "- Use `X_train` e `y_train` para treinar seu modelo de árvore de decisão."
   ]
  },
  {
   "cell_type": "code",
   "execution_count": null,
   "metadata": {},
   "outputs": [],
   "source": [
    "# Seu código aqui"
   ]
  },
  {
   "cell_type": "markdown",
   "metadata": {},
   "source": [
    "## Previsão\n",
    "- Use seu modelo de árvore de decisão para gerar previsões para `X_test`.\n",
    "- Armazene as previsões na série `y_pred_tree`."
   ]
  },
  {
   "cell_type": "code",
   "execution_count": null,
   "metadata": {},
   "outputs": [],
   "source": [
    "# Seu código aqui"
   ]
  },
  {
   "cell_type": "markdown",
   "metadata": {},
   "source": [
    "## Avaliando os resultados\n",
    "- Calcule as pontuações de acurácia, precisão e revogação dos datasets de teste e de treino."
   ]
  },
  {
   "cell_type": "code",
   "execution_count": null,
   "metadata": {},
   "outputs": [],
   "source": [
    "# Seu código aqui"
   ]
  },
  {
   "cell_type": "markdown",
   "metadata": {},
   "source": [
    "- Compare os resultados. O que você observa? Você entende o que significam?"
   ]
  },
  {
   "cell_type": "code",
   "execution_count": null,
   "metadata": {},
   "outputs": [],
   "source": [
    "# Seu código aqui"
   ]
  },
  {
   "cell_type": "markdown",
   "metadata": {},
   "source": [
    "## Plotando árvores\n",
    "- Use o método `plot_tree()` do módulo `sklearn.tree` para mostrar as decisões da árvore no seu notebook.\n",
    "- Brinque com argumentos como `feature_names`, `class_names`, `proportion`, `filled`... Documentação [aqui](https://scikit-learn.org/stable/modules/generated/sklearn.tree.plot_tree.html).\n",
    "```python\n",
    "from sklearn.tree import plot_tree\n",
    "```"
   ]
  },
  {
   "cell_type": "code",
   "execution_count": null,
   "metadata": {},
   "outputs": [],
   "source": [
    "# Seu código aqui"
   ]
  },
  {
   "cell_type": "markdown",
   "metadata": {},
   "source": [
    "- O que você acha que aconteceu? Você esperava que a árvore tivesse esse tamanho?"
   ]
  },
  {
   "cell_type": "code",
   "execution_count": null,
   "metadata": {},
   "outputs": [],
   "source": [
    "# Seu código aqui"
   ]
  },
  {
   "cell_type": "markdown",
   "metadata": {},
   "source": [
    "## Limites de Decisão - Árvore de Decisão\n",
    "- Usando o módulo `mlxtend.plotting`, plote os limites de decisão para o algoritmo de classificação `árvore de decisão`.\n",
    "- Inclua os rótulos no plot.\n",
    "- Use `!pip install mlxtend --user` para instalar o módulo `mlxtend`.\n",
    "- Dica: você precisa converter pd.dataframes para np.arrays antes de plotar nesse módulo.\n",
    "```python\n",
    "import mlxtend.plotting as mlplt\n",
    "```\n"
   ]
  },
  {
   "cell_type": "code",
   "execution_count": null,
   "metadata": {},
   "outputs": [],
   "source": [
    "# Seu código aqui"
   ]
  },
  {
   "cell_type": "markdown",
   "metadata": {},
   "source": [
    "- Você deve ter percebido uma alta granularidade de linhas cortando a imagem.\n",
    "- O que você acha que isso representa? O que isso diz sobre o algoritmo árvore de decisão?"
   ]
  },
  {
   "cell_type": "code",
   "execution_count": null,
   "metadata": {},
   "outputs": [],
   "source": [
    "# Seu código aqui"
   ]
  },
  {
   "cell_type": "markdown",
   "metadata": {},
   "source": [
    "## Limites de Decisão - Regressão Logística\n",
    "- Faça a mesma opreação para o modelo de regressão logística criado anteriormente.\n",
    "- Use mlxtend.plotting para plotar os limites de decisão."
   ]
  },
  {
   "cell_type": "code",
   "execution_count": null,
   "metadata": {},
   "outputs": [],
   "source": [
    "# Seu código aqui"
   ]
  },
  {
   "cell_type": "markdown",
   "metadata": {},
   "source": [
    "- Que diferenças você observa? A variável idade é importante para a regressão logística? Para diferentes idades, como é afetado o limite de decisão? Por que você acha que isso acontece?\n",
    "- Tente lembrar do lab `titanic-exploration`. Como idade se relacionava com sobrevivência? Como fizemos para visualizar algumas questões ali?"
   ]
  },
  {
   "cell_type": "code",
   "execution_count": null,
   "metadata": {},
   "outputs": [],
   "source": [
    "# Seu código aqui"
   ]
  },
  {
   "cell_type": "markdown",
   "metadata": {},
   "source": [
    "## Consertando o Algoritmo Árvore de Decisão"
   ]
  },
  {
   "cell_type": "markdown",
   "metadata": {},
   "source": [
    "- Como você observou, quando usamos os valores padrão da DecisionTreeClassifier, ocorre sobreajuste. Isso acontece porque, por padrão, a árvore de decisão é tão complexa, que ela memoriza o dataset inteiro, sem se importar com quantas decisões precisa tomar.\n",
    "- Sendo assim, por padrão, o algoritmo árvore de decisão é **complexo demais**. Resolveremos esse problema tornando a árvore um pouco menos complexa. Uma forma de reduzir sua complexidade é especificando o argumento `max_depth`.\n",
    "- Tente achar um valor mais adequado para `max_depth` - que aproxime as pontuações das previsões de treino e de teste."
   ]
  },
  {
   "cell_type": "code",
   "execution_count": null,
   "metadata": {},
   "outputs": [],
   "source": [
    "# Seu código aqui"
   ]
  },
  {
   "cell_type": "markdown",
   "metadata": {},
   "source": [
    "## Plote a árvore resultante e os limites de decisão\n",
    "- Plote os resultados depois de escolher um valor melhor para `max_depth`.\n",
    "- O novo valor deve ser capaz de equilibrar a performance do modelo com sua aplicabilidade geral."
   ]
  },
  {
   "cell_type": "code",
   "execution_count": null,
   "metadata": {},
   "outputs": [],
   "source": [
    "# Seu código aqui"
   ]
  },
  {
   "cell_type": "markdown",
   "metadata": {},
   "source": [
    "- Você consegue identificar qual foi a característica que mais determinou as decisões da árvore?"
   ]
  },
  {
   "cell_type": "code",
   "execution_count": null,
   "metadata": {},
   "outputs": [],
   "source": [
    "# Seu código aqui"
   ]
  },
  {
   "cell_type": "markdown",
   "metadata": {},
   "source": [
    "# Enfim, use mais características\n",
    "- Tente obter uma boa acurácia para seu problema.\n",
    "- Use mais variáveis se quiser. Você pode plotar a árvore para entender melhor as variáveis."
   ]
  },
  {
   "cell_type": "code",
   "execution_count": null,
   "metadata": {},
   "outputs": [],
   "source": [
    "# Seu código aqui"
   ]
  }
 ],
 "metadata": {
  "hide_input": false,
  "kernelspec": {
   "display_name": "Python 3.9.7 ('base')",
   "language": "python",
   "name": "python3"
  },
  "language_info": {
   "codemirror_mode": {
    "name": "ipython",
    "version": 3
   },
   "file_extension": ".py",
   "mimetype": "text/x-python",
   "name": "python",
   "nbconvert_exporter": "python",
   "pygments_lexer": "ipython3",
   "version": "3.9.7"
  },
  "toc": {
   "base_numbering": 1,
   "nav_menu": {},
   "number_sections": true,
   "sideBar": true,
   "skip_h1_title": false,
   "title_cell": "Table of Contents",
   "title_sidebar": "Contents",
   "toc_cell": false,
   "toc_position": {},
   "toc_section_display": true,
   "toc_window_display": false
  },
  "varInspector": {
   "cols": {
    "lenName": 16,
    "lenType": 16,
    "lenVar": 40
   },
   "kernels_config": {
    "python": {
     "delete_cmd_postfix": "",
     "delete_cmd_prefix": "del ",
     "library": "var_list.py",
     "varRefreshCmd": "print(var_dic_list())"
    },
    "r": {
     "delete_cmd_postfix": ") ",
     "delete_cmd_prefix": "rm(",
     "library": "var_list.r",
     "varRefreshCmd": "cat(var_dic_list()) "
    }
   },
   "types_to_exclude": [
    "module",
    "function",
    "builtin_function_or_method",
    "instance",
    "_Feature"
   ],
   "window_display": false
  },
  "vscode": {
   "interpreter": {
    "hash": "7869b160c3910301faef0a277a4870fbba5b5242c72c77312845f42f06961f70"
   }
  }
 },
 "nbformat": 4,
 "nbformat_minor": 2
}
